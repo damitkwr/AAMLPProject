{
 "cells": [
  {
   "cell_type": "markdown",
   "metadata": {},
   "source": [
    "# 95845-A Applied Analytics: The Machine Learning Pipeline\n",
    "\n",
    "## Final Project: Shawn Leahy and Kaung Khin\n",
    "\n",
    "## Predicting Influenza Infection with Demographic, Medical, and Search Engine Data\n",
    "\n",
    "### Data Preparation, Cleaning, Exploration, and Initial Model Building Notebook\n",
    "\n",
    "### April 30th, 2018"
   ]
  },
  {
   "cell_type": "markdown",
   "metadata": {},
   "source": [
    "## Demographic Data\n",
    "\n",
    "We begin by loading the 2015 Household component MEPS data and investigating features."
   ]
  },
  {
   "cell_type": "code",
   "execution_count": 1,
   "metadata": {},
   "outputs": [
    {
     "name": "stderr",
     "output_type": "stream",
     "text": [
      "C:\\Users\\spleahy\\Anaconda3\\lib\\site-packages\\IPython\\core\\interactiveshell.py:2728: DtypeWarning: Columns (518,1057) have mixed types. Specify dtype option on import or set low_memory=False.\n",
      "  interactivity=interactivity, compiler=compiler, result=result)\n"
     ]
    },
    {
     "data": {
      "text/plain": [
       "(35427, 1832)"
      ]
     },
     "execution_count": 1,
     "metadata": {},
     "output_type": "execute_result"
    }
   ],
   "source": [
    "import pandas as pd\n",
    "import numpy as np\n",
    "import matplotlib.pyplot as plt\n",
    "import seaborn as sns\n",
    "%matplotlib inline\n",
    "pd.set_option('display.max_columns', 100)\n",
    "plt.style.use('ggplot')\n",
    "\n",
    "full_2015 = pd.read_table('full_2015.csv', delimiter=';')\n",
    "full_2015.shape"
   ]
  },
  {
   "cell_type": "code",
   "execution_count": 2,
   "metadata": {},
   "outputs": [],
   "source": [
    "#Look at all columns\n",
    "# print(full_2015.shape)\n",
    "# print()\n",
    "# for col in full_2015.columns:\n",
    "#     print(col)"
   ]
  },
  {
   "cell_type": "code",
   "execution_count": 3,
   "metadata": {},
   "outputs": [
    {
     "name": "stdout",
     "output_type": "stream",
     "text": [
      "(35427, 38)\n"
     ]
    }
   ],
   "source": [
    "#subsample columns by using data dictionary (https://meps.ahrq.gov/data_stats/download_data/pufs/h181/h181doc.pdf)\n",
    "demo_list = ['DUPERSID','REGION15','AGE15X','SEX','RACEV1X','HISPANX',\n",
    "            'AFDC15','FOODMN15','FAMINC15','POVLEV15','SSECP15X','MNHLTH53','HIBPDX','CHECK53',\n",
    "            'CHDDX','ANGIDX','MIDX','OHRTDX','STRKDX','EMPHDX','CHBRON53','CHOLDX','CANCERDX','DIABDX','ARTHDX','ASTHDX',\n",
    "            'PREGNT53','FLUSHT53','BMINDX53','TMTKUS42','NOHINS42','HELD53X','SICPAY53','UNINS15','INSURC15','NOINSTM',\n",
    "            'ERTOT15','OBTOTV15']\n",
    "full_2015 = full_2015[demo_list]\n",
    "print(full_2015.shape)\n"
   ]
  },
  {
   "cell_type": "code",
   "execution_count": 4,
   "metadata": {},
   "outputs": [],
   "source": [
    "#Turn categorical values into dummies\n",
    "full_2015_dummies = pd.get_dummies(full_2015, columns=['REGION15','RACEV1X','AFDC15','MNHLTH53','HIBPDX','CHDDX',\n",
    "                                                       'ANGIDX','MIDX','OHRTDX','STRKDX','EMPHDX','CHBRON53','CHOLDX',\n",
    "                                                       'CANCERDX','DIABDX','ARTHDX','ASTHDX','PREGNT53',\n",
    "                                                       'TMTKUS42','NOHINS42','HELD53X','SICPAY53','INSURC15'])"
   ]
  },
  {
   "cell_type": "code",
   "execution_count": 5,
   "metadata": {},
   "outputs": [],
   "source": [
    "#drop columns with reserved codes and drop columns to avoid multicollinearity with dummy variables\n",
    "full_2015_dummies = full_2015_dummies.loc[:, ~full_2015_dummies.columns.str.endswith('-1')]\n",
    "full_2015_dummies = full_2015_dummies.loc[:, ~full_2015_dummies.columns.str.endswith('-2')]\n",
    "full_2015_dummies = full_2015_dummies.loc[:, ~full_2015_dummies.columns.str.endswith('-9')]\n",
    "full_2015_dummies = full_2015_dummies.loc[:, ~full_2015_dummies.columns.str.endswith('-8')]\n",
    "full_2015_dummies = full_2015_dummies.loc[:, ~full_2015_dummies.columns.str.endswith('-7')]\n",
    "\n",
    "full_2015_dummies = full_2015_dummies.drop(columns=['CHBRON53_2','CHOLDX_2','CANCERDX_2','DIABDX_2','ARTHDX_2','ASTHDX_2',\n",
    "                                                   'PREGNT53_2','NOHINS42_2','HELD53X_2','SICPAY53_2','ANGIDX_2'])"
   ]
  },
  {
   "cell_type": "code",
   "execution_count": 6,
   "metadata": {},
   "outputs": [],
   "source": [
    "#replace -1 reserved code with 0 per documentation\n",
    "full_2015_dummies.FOODMN15 = full_2015_dummies.FOODMN15.replace(-1,0)\n",
    "full_2015_dummies.CHECK53 = full_2015_dummies.CHECK53.replace(-1,0)\n",
    "full_2015_dummies.FLUSHT53 = full_2015_dummies.FLUSHT53.replace(-1,0)\n",
    "full_2015_dummies.NOINSTM = full_2015_dummies.NOINSTM.replace(-1,0)\n",
    "\n",
    "replace = full_2015[['POVLEV15','BMINDX53']]\n",
    "replace = replace.stack().str.replace(',','.').unstack()\n",
    "full_2015_dummies = full_2015_dummies.drop(columns=['POVLEV15','BMINDX53'])\n",
    "full_2015_dummies['POVLEV15'] = replace['POVLEV15']\n",
    "full_2015_dummies['BMINDX53'] = replace['BMINDX53']\n",
    "\n",
    "#full_2015_dummies.head(20)"
   ]
  },
  {
   "cell_type": "markdown",
   "metadata": {},
   "source": [
    "### Explore the Data - Check out some histograms of the data\n",
    "\n",
    "uncomment to see plots"
   ]
  },
  {
   "cell_type": "code",
   "execution_count": 7,
   "metadata": {},
   "outputs": [],
   "source": [
    "#full_2015.REGION15.hist()"
   ]
  },
  {
   "cell_type": "code",
   "execution_count": 8,
   "metadata": {},
   "outputs": [],
   "source": [
    "#full_2015.SEX.hist()"
   ]
  },
  {
   "cell_type": "code",
   "execution_count": 9,
   "metadata": {},
   "outputs": [],
   "source": [
    "#full_2015.RACEV1X.hist()"
   ]
  },
  {
   "cell_type": "code",
   "execution_count": 10,
   "metadata": {},
   "outputs": [],
   "source": [
    "#full_2015.FAMINC15.hist(bins=20)"
   ]
  },
  {
   "cell_type": "code",
   "execution_count": 11,
   "metadata": {},
   "outputs": [],
   "source": [
    "#full_2015.UNINS15.value_counts()"
   ]
  },
  {
   "cell_type": "code",
   "execution_count": 12,
   "metadata": {},
   "outputs": [],
   "source": [
    "#full_2015.ERTOT15.hist()"
   ]
  },
  {
   "cell_type": "code",
   "execution_count": 13,
   "metadata": {},
   "outputs": [],
   "source": [
    "#full_2015.OBTOTV15.hist()"
   ]
  },
  {
   "cell_type": "code",
   "execution_count": 14,
   "metadata": {},
   "outputs": [],
   "source": [
    "#full_2015.FLUSHT53.hist()"
   ]
  },
  {
   "cell_type": "code",
   "execution_count": 15,
   "metadata": {},
   "outputs": [],
   "source": [
    "#full_2015.INSURC15.hist()"
   ]
  },
  {
   "cell_type": "markdown",
   "metadata": {},
   "source": [
    "## 2015 Medical Conditions file loading and exploration"
   ]
  },
  {
   "cell_type": "code",
   "execution_count": 16,
   "metadata": {},
   "outputs": [],
   "source": [
    "medical_conditions_2015 = pd.read_table('medical_conditions_2015.csv', delimiter=';')\n",
    "#medical_conditions_2015.head()"
   ]
  },
  {
   "cell_type": "code",
   "execution_count": 17,
   "metadata": {},
   "outputs": [],
   "source": [
    "#check columns\n",
    "# print(medical_conditions_2015.shape)\n",
    "# print()\n",
    "# for col in medical_conditions_2015.columns:\n",
    "#     print(col)"
   ]
  },
  {
   "cell_type": "code",
   "execution_count": 18,
   "metadata": {},
   "outputs": [],
   "source": [
    "#subset columns based on documentation (https://meps.ahrq.gov/data_stats/download_data/pufs/h180/h180doc.pdf)\n",
    "medical_conditions_2015 = medical_conditions_2015.drop(columns=['PANEL','CONDRN','AGEDIAG','ACCDNWRK','CRND1','CRND2',\n",
    "                                                                'CRND3','CRND4','CRND5','PERWT15F','INJURY',\n",
    "                                                               'VARSTR','VARPSU','DUID','PID','CONDIDX','Unnamed: 0'])\n",
    "#medical_conditions_2015.head()"
   ]
  },
  {
   "cell_type": "code",
   "execution_count": 19,
   "metadata": {},
   "outputs": [
    {
     "data": {
      "text/plain": [
       "26621"
      ]
     },
     "execution_count": 19,
     "metadata": {},
     "output_type": "execute_result"
    }
   ],
   "source": [
    "#check unique individuals in file\n",
    "len(medical_conditions_2015.DUPERSID.unique())"
   ]
  },
  {
   "cell_type": "code",
   "execution_count": 20,
   "metadata": {},
   "outputs": [],
   "source": [
    "#create flag for flu occurence for each person per documentation (CCODEX 123)\n",
    "medical_conditions_2015['flu_flag'] = np.where(medical_conditions_2015.CCCODEX==123,1,0)"
   ]
  },
  {
   "cell_type": "code",
   "execution_count": 21,
   "metadata": {},
   "outputs": [
    {
     "data": {
      "text/plain": [
       "0    121515\n",
       "1      1712\n",
       "Name: flu_flag, dtype: int64"
      ]
     },
     "execution_count": 21,
     "metadata": {},
     "output_type": "execute_result"
    }
   ],
   "source": [
    "#Check counts of flu/no flu\n",
    "medical_conditions_2015.flu_flag.value_counts()"
   ]
  },
  {
   "cell_type": "code",
   "execution_count": 22,
   "metadata": {},
   "outputs": [],
   "source": [
    "#Get unique IDs for where flu flag = 1 and drop columns we don't need\n",
    "flu_DUPERSID = medical_conditions_2015.DUPERSID[medical_conditions_2015['flu_flag']==1]\n",
    "medical_conditions_2015_grouped = medical_conditions_2015.drop(columns=['CONDN','ICD9CODX','ICD9PROX','CCCODEX','flu_flag'])\n",
    "#group file by unique ID and get counts of remaining variables (inpatient stays, outpatient stays etc.)\n",
    "medical_conditions_2015_grouped  = medical_conditions_2015_grouped.groupby(['DUPERSID']).sum()\n",
    "#medical_conditions_2015_grouped.head()"
   ]
  },
  {
   "cell_type": "markdown",
   "metadata": {},
   "source": [
    "## Prescription Drugs file loading and exploration"
   ]
  },
  {
   "cell_type": "code",
   "execution_count": 23,
   "metadata": {},
   "outputs": [
    {
     "name": "stderr",
     "output_type": "stream",
     "text": [
      "C:\\Users\\spleahy\\Anaconda3\\lib\\site-packages\\IPython\\core\\interactiveshell.py:2728: DtypeWarning: Columns (63) have mixed types. Specify dtype option on import or set low_memory=False.\n",
      "  interactivity=interactivity, compiler=compiler, result=result)\n"
     ]
    }
   ],
   "source": [
    "prescription_drugs_2015 = pd.read_table('prescription_drugs_2015.csv', delimiter=';')\n",
    "#prescription_drugs_2015.head()"
   ]
  },
  {
   "cell_type": "code",
   "execution_count": 24,
   "metadata": {},
   "outputs": [
    {
     "name": "stdout",
     "output_type": "stream",
     "text": [
      "(330453, 70)\n"
     ]
    }
   ],
   "source": [
    "#Check columns (https://meps.ahrq.gov/data_stats/download_data/pufs/h178a/h178adoc.pdf)\n",
    "print(prescription_drugs_2015.shape)\n",
    "#print()\n",
    "#for col in prescription_drugs_2015.columns:\n",
    "#    print(col)"
   ]
  },
  {
   "cell_type": "code",
   "execution_count": 25,
   "metadata": {},
   "outputs": [],
   "source": [
    "#drop columns we do not need\n",
    "prescription_drugs_2015 = prescription_drugs_2015.drop(columns=['Unnamed: 0','DUID','PID','DRUGIDX','LINKIDX','PANEL',\n",
    "                                                               'PURCHRD','RXBEGYRX','RXDRGNAM','RXQUANTY',\n",
    "                                                                'RXFORM','RXFRMUNT','RXSTRENG','RXSTRUNT','RXDAYSUP',\n",
    "                                                               'OMTYPE','PHARTP1','PHARTP2','PHARTP3','PHARTP4','PHARTP5',\n",
    "                                                               'PHARTP6','PHARTP7','PHARTP8','RXFLG','IMPFLAG','PCIMPFLG',\n",
    "                                                               'INPCFLG','SAMPLE','PREGCAT','TC1','TC1S1','TC1S1_1',\n",
    "                                                               'TC1S1_2','TC1S2','TC1S2_1','TC1S3','TC1S3_1','TC2','TC2S1',\n",
    "                                                                'TC2S1_1','TC2S1_2','TC2S2','TC3','TC3S1','TC3S1_1',\n",
    "                                                                'PERWT15F','VARSTR','VARPSU','RXSF15X','RXMR15X',\n",
    "                                                                'RXMD15X','RXPV15X','RXVA15X','RXTR15X','RXOF15X',\n",
    "                                                                'RXSL15X','RXWC15X','RXOT15X','RXOR15X','RXOU15X',\n",
    "                                                                'RXXP15X'])"
   ]
  },
  {
   "cell_type": "code",
   "execution_count": 26,
   "metadata": {},
   "outputs": [
    {
     "data": {
      "text/plain": [
       "19604"
      ]
     },
     "execution_count": 26,
     "metadata": {},
     "output_type": "execute_result"
    }
   ],
   "source": [
    "#get unique individuals in file\n",
    "len(prescription_drugs_2015.DUPERSID.unique())"
   ]
  },
  {
   "cell_type": "code",
   "execution_count": 27,
   "metadata": {},
   "outputs": [],
   "source": [
    "#create flag for Tamiflu \n",
    "prescription_drugs_2015['Tamiflu_flag'] = np.where(prescription_drugs_2015.RXNAME=='TAMIFLU',1,0)"
   ]
  },
  {
   "cell_type": "code",
   "execution_count": 28,
   "metadata": {},
   "outputs": [
    {
     "data": {
      "text/plain": [
       "0    330259\n",
       "1       194\n",
       "Name: Tamiflu_flag, dtype: int64"
      ]
     },
     "execution_count": 28,
     "metadata": {},
     "output_type": "execute_result"
    }
   ],
   "source": [
    "#counts of Tamiflu \n",
    "prescription_drugs_2015.Tamiflu_flag.value_counts()"
   ]
  },
  {
   "cell_type": "code",
   "execution_count": 29,
   "metadata": {},
   "outputs": [],
   "source": [
    "#get unique IDs for where Tamiflu occurs\n",
    "TAMIFLU_DUPERSID = prescription_drugs_2015.DUPERSID[prescription_drugs_2015['Tamiflu_flag']==1]"
   ]
  },
  {
   "cell_type": "markdown",
   "metadata": {},
   "source": [
    "## Table Joining - all 2015 files"
   ]
  },
  {
   "cell_type": "code",
   "execution_count": 30,
   "metadata": {},
   "outputs": [],
   "source": [
    "#household file and medical conditions joining\n",
    "join1 = full_2015_dummies.join(medical_conditions_2015_grouped,on='DUPERSID')\n",
    "join1 = join1.fillna(0)"
   ]
  },
  {
   "cell_type": "code",
   "execution_count": 31,
   "metadata": {},
   "outputs": [],
   "source": [
    "#flu and Tamiflu flags\n",
    "join1['flu_flag'] = np.where(join1.DUPERSID.isin(flu_DUPERSID),1,0)\n",
    "join1['tamiflu_flag'] = np.where(join1.DUPERSID.isin(TAMIFLU_DUPERSID),1,0)"
   ]
  },
  {
   "cell_type": "code",
   "execution_count": 32,
   "metadata": {},
   "outputs": [],
   "source": [
    "#join1[(join1['flu_flag']==0) & (join1['tamiflu_flag']==1)].shape"
   ]
  },
  {
   "cell_type": "code",
   "execution_count": 33,
   "metadata": {},
   "outputs": [],
   "source": [
    "#join1[(join1['flu_flag']==1) & (join1['tamiflu_flag']==0)].shape"
   ]
  },
  {
   "cell_type": "code",
   "execution_count": 34,
   "metadata": {},
   "outputs": [],
   "source": [
    "#join1[(join1['flu_flag']==1) & (join1['tamiflu_flag']==1)].shape"
   ]
  },
  {
   "cell_type": "code",
   "execution_count": 35,
   "metadata": {},
   "outputs": [],
   "source": [
    "#create year flag\n",
    "join1['Year'] = 2015"
   ]
  },
  {
   "cell_type": "markdown",
   "metadata": {},
   "source": [
    "## Initial Model Building - just a check w/ single year of data\n",
    "\n",
    "split data into training and testing w/ flu flag as labels.  Use Random Forest model for prediction"
   ]
  },
  {
   "cell_type": "code",
   "execution_count": 36,
   "metadata": {},
   "outputs": [],
   "source": [
    "from sklearn.ensemble import RandomForestClassifier\n",
    "from sklearn.model_selection import train_test_split\n",
    "from sklearn.metrics import accuracy_score\n",
    "from sklearn.metrics import confusion_matrix\n",
    "y = join1.flu_flag\n",
    "X = join1.drop(columns=['flu_flag','DUPERSID'])\n",
    "rf = RandomForestClassifier(n_estimators=100,criterion='entropy',n_jobs=-1)\n",
    "X_train, X_test, y_train, y_test = train_test_split(X,y,test_size=0.5, random_state=42,stratify=y)"
   ]
  },
  {
   "cell_type": "code",
   "execution_count": 37,
   "metadata": {},
   "outputs": [
    {
     "data": {
      "text/plain": [
       "RandomForestClassifier(bootstrap=True, class_weight=None, criterion='entropy',\n",
       "            max_depth=None, max_features='auto', max_leaf_nodes=None,\n",
       "            min_impurity_decrease=0.0, min_impurity_split=None,\n",
       "            min_samples_leaf=1, min_samples_split=2,\n",
       "            min_weight_fraction_leaf=0.0, n_estimators=100, n_jobs=-1,\n",
       "            oob_score=False, random_state=None, verbose=0,\n",
       "            warm_start=False)"
      ]
     },
     "execution_count": 37,
     "metadata": {},
     "output_type": "execute_result"
    }
   ],
   "source": [
    "rf.fit(X_train, y_train)"
   ]
  },
  {
   "cell_type": "code",
   "execution_count": 38,
   "metadata": {},
   "outputs": [
    {
     "name": "stdout",
     "output_type": "stream",
     "text": [
      "Test Accuracy Rate:  0.955\n"
     ]
    }
   ],
   "source": [
    "prediction = rf.predict(X_test)\n",
    "print('Test Accuracy Rate: ',round(accuracy_score(y_test, prediction),3))"
   ]
  },
  {
   "cell_type": "code",
   "execution_count": 39,
   "metadata": {},
   "outputs": [
    {
     "data": {
      "text/plain": [
       "array([[16853,    13],\n",
       "       [  780,    68]], dtype=int64)"
      ]
     },
     "execution_count": 39,
     "metadata": {},
     "output_type": "execute_result"
    }
   ],
   "source": [
    "confusion_matrix(y_test, prediction)"
   ]
  },
  {
   "cell_type": "code",
   "execution_count": 40,
   "metadata": {},
   "outputs": [
    {
     "data": {
      "image/png": "[encoded data removed]",
      "text/plain": [
       "<matplotlib.figure.Figure at 0x28bed670320>"
      ]
     },
     "metadata": {},
     "output_type": "display_data"
    }
   ],
   "source": [
    "from sklearn.metrics import roc_curve, auc\n",
    "\n",
    "fpr, tpr, _ = roc_curve(y_test, prediction)\n",
    "roc_auc = auc(fpr, tpr)\n",
    "\n",
    "plt.figure()\n",
    "lw = 2\n",
    "plt.plot(fpr, tpr, color='darkorange',\n",
    "         lw=lw, label='ROC curve (area = %0.2f)' % roc_auc)\n",
    "plt.plot([0, 1], [0, 1], color='navy', lw=lw, linestyle='--')\n",
    "plt.xlim([0.0, 1.0])\n",
    "plt.ylim([0.0, 1.05])\n",
    "plt.xlabel('False Positive Rate')\n",
    "plt.ylabel('True Positive Rate')\n",
    "plt.title('Receiver operating characteristic example')\n",
    "plt.legend(loc=\"lower right\")\n",
    "plt.show()"
   ]
  },
  {
   "cell_type": "markdown",
   "metadata": {},
   "source": [
    "#### Skewed data - no surprise here.  Will have to account for this.\n",
    "\n",
    "## Other years of data\n",
    "\n",
    "Replicate process from above done on 2015 for 2012-2014.  "
   ]
  },
  {
   "cell_type": "code",
   "execution_count": 41,
   "metadata": {},
   "outputs": [
    {
     "name": "stderr",
     "output_type": "stream",
     "text": [
      "C:\\Users\\spleahy\\Anaconda3\\lib\\site-packages\\IPython\\core\\interactiveshell.py:2728: DtypeWarning: Columns (515,525,1064) have mixed types. Specify dtype option on import or set low_memory=False.\n",
      "  interactivity=interactivity, compiler=compiler, result=result)\n",
      "C:\\Users\\spleahy\\Anaconda3\\lib\\site-packages\\IPython\\core\\interactiveshell.py:2728: DtypeWarning: Columns (60,62,63) have mixed types. Specify dtype option on import or set low_memory=False.\n",
      "  interactivity=interactivity, compiler=compiler, result=result)\n",
      "C:\\Users\\spleahy\\Anaconda3\\lib\\site-packages\\IPython\\core\\interactiveshell.py:2728: DtypeWarning: Columns (551,1021) have mixed types. Specify dtype option on import or set low_memory=False.\n",
      "  interactivity=interactivity, compiler=compiler, result=result)\n",
      "C:\\Users\\spleahy\\Anaconda3\\lib\\site-packages\\IPython\\core\\interactiveshell.py:2728: DtypeWarning: Columns (62,63) have mixed types. Specify dtype option on import or set low_memory=False.\n",
      "  interactivity=interactivity, compiler=compiler, result=result)\n",
      "C:\\Users\\spleahy\\Anaconda3\\lib\\site-packages\\IPython\\core\\interactiveshell.py:2728: DtypeWarning: Columns (609,1093) have mixed types. Specify dtype option on import or set low_memory=False.\n",
      "  interactivity=interactivity, compiler=compiler, result=result)\n",
      "C:\\Users\\spleahy\\Anaconda3\\lib\\site-packages\\IPython\\core\\interactiveshell.py:2728: DtypeWarning: Columns (38,65,67,68) have mixed types. Specify dtype option on import or set low_memory=False.\n",
      "  interactivity=interactivity, compiler=compiler, result=result)\n"
     ]
    }
   ],
   "source": [
    "full_2014 = pd.read_table('full_2014.csv', delimiter=';')\n",
    "medical_conditions_2014 = pd.read_table('medical_conditions_2014.csv', delimiter=';')\n",
    "prescription_drugs_2014 = pd.read_table('prescription_drugs_2014.csv', delimiter=';')\n",
    "\n",
    "full_2013 = pd.read_table('full_2013.csv', delimiter=';')\n",
    "medical_conditions_2013 = pd.read_table('medical_conditions_2013.csv', delimiter=';')\n",
    "prescription_drugs_2013 = pd.read_table('prescription_drugs_2013.csv', delimiter=';')\n",
    "\n",
    "full_2012 = pd.read_table('full_2012.csv', delimiter=';')\n",
    "medical_conditions_2012 = pd.read_table('medical_conditions_2012.csv', delimiter=';')\n",
    "prescription_drugs_2012 = pd.read_table('prescription_drugs_2012.csv', delimiter=';')"
   ]
  },
  {
   "cell_type": "markdown",
   "metadata": {},
   "source": [
    "### Exploration on all years of data"
   ]
  },
  {
   "cell_type": "code",
   "execution_count": 42,
   "metadata": {},
   "outputs": [
    {
     "data": {
      "text/plain": [
       "Text(0.5,1,'Histogram of Sample Population by Region for 2012-2015')"
      ]
     },
     "execution_count": 42,
     "metadata": {},
     "output_type": "execute_result"
    },
    {
     "data": {
      "image/png": "[encoded data removed]",
      "text/plain": [
       "<matplotlib.figure.Figure at 0x28b8a729898>"
      ]
     },
     "metadata": {},
     "output_type": "display_data"
    }
   ],
   "source": [
    "labels = ['2015', '2014', '2013', '2012']\n",
    "plt.figure(figsize=(8,8))\n",
    "\n",
    "plt.hist(np.array(pd.DataFrame({'2015':full_2015.REGION15,\n",
    "                                '2014':full_2014.REGION14,\n",
    "                                '2013':full_2013.REGION13,\n",
    "                                '2012':full_2012.REGION12})),\n",
    "         density=False, histtype='bar', color=['red','blue','black','green'], label=labels)\n",
    "\n",
    "plt.legend(labels, loc='upper center')\n",
    "plt.xticks(range(-1,5),['None','','Northeast','Midwest','South','West'], rotation=45)\n",
    "plt.xlim(1,4)\n",
    "plt.ylabel('Count of Individuals')\n",
    "plt.xlabel('Census Region')\n",
    "plt.title('Histogram of Sample Population by Region for 2012-2015')"
   ]
  },
  {
   "cell_type": "code",
   "execution_count": 43,
   "metadata": {},
   "outputs": [
    {
     "data": {
      "text/plain": [
       "Text(0.5,1,'Histogram of Sample Population by Race for 2012-2015')"
      ]
     },
     "execution_count": 43,
     "metadata": {},
     "output_type": "execute_result"
    },
    {
     "data": {
      "image/png": "[encoded data removed]",
      "text/plain": [
       "<matplotlib.figure.Figure at 0x28b8a729160>"
      ]
     },
     "metadata": {},
     "output_type": "display_data"
    }
   ],
   "source": [
    "plt.figure(figsize=(8,8))\n",
    "plt.hist(np.array(pd.DataFrame({'2015':full_2015.RACEV1X,\n",
    "                                '2014':full_2014.RACEV1X,\n",
    "                                '2013':full_2013.RACEV1X,\n",
    "                                '2012':full_2012.RACEV1X})),\n",
    "         density=False, histtype='bar', color=['red','blue','black','green'], label=labels)\n",
    "\n",
    "plt.legend(labels)\n",
    "plt.xticks(range(1,7),['White','Black','Native','Asian','Islander','Multiple Reported'], rotation=45)\n",
    "plt.title('Histogram of Sample Population by Race for 2012-2015')\n"
   ]
  },
  {
   "cell_type": "code",
   "execution_count": 46,
   "metadata": {},
   "outputs": [
    {
     "data": {
      "text/plain": [
       "Text(0.5,1,'Histogram of Sample Population by Family Income for 2012-2015')"
      ]
     },
     "execution_count": 46,
     "metadata": {},
     "output_type": "execute_result"
    },
    {
     "data": {
      "image/png": "[encoded data removed]",
      "text/plain": [
       "<matplotlib.figure.Figure at 0x28b8ac86b70>"
      ]
     },
     "metadata": {},
     "output_type": "display_data"
    }
   ],
   "source": [
    "plt.figure(figsize=(10,6))\n",
    "plt.hist(np.array(pd.DataFrame({'2015':full_2015.FAMINC15,\n",
    "                                '2014':full_2014.FAMINC14,\n",
    "                                '2013':full_2013.FAMINC13,\n",
    "                                '2012':full_2012.FAMINC12})),\n",
    "         density=False, histtype='bar', color=['red','blue','black','green'], label=labels, bins=20)\n",
    "plt.xticks(np.arange(0, 250000, step=20000),rotation=45)\n",
    "plt.xlim(0,250000)\n",
    "plt.ylabel('Count of Individuals')\n",
    "plt.xlabel('Family Income ($)')\n",
    "plt.legend(labels)\n",
    "plt.title('Histogram of Sample Population by Family Income for 2012-2015')"
   ]
  },
  {
   "cell_type": "code",
   "execution_count": 47,
   "metadata": {},
   "outputs": [
    {
     "data": {
      "text/plain": [
       "Text(0.5,1,'Histogram of Sample Population by Number of Weeks Without Health Insurance for 2012-2015')"
      ]
     },
     "execution_count": 47,
     "metadata": {},
     "output_type": "execute_result"
    },
    {
     "data": {
      "image/png": "[encoded data removed]",
      "text/plain": [
       "<matplotlib.figure.Figure at 0x1a6da0430f0>"
      ]
     },
     "metadata": {},
     "output_type": "display_data"
    }
   ],
   "source": [
    "plt.figure(figsize=(8,8))\n",
    "plt.hist(np.array(pd.DataFrame({'2015':full_2015.NOINSTM,\n",
    "                                '2014':full_2014.NOINSTM,\n",
    "                                '2013':full_2013.NOINSTM,\n",
    "                                '2012':full_2012.NOINSTM})),\n",
    "         density=False, histtype='bar', color=['red','blue','black','green'], \n",
    "         label=labels, rwidth=0.5, bins=10, align='left')\n",
    "\n",
    "plt.legend(labels)\n",
    "plt.xticks(range(0,55,5))\n",
    "plt.xlim(0,55)\n",
    "plt.ylim(0,300)\n",
    "plt.title('Histogram of Sample Population by Number of Weeks Without Health Insurance for 2012-2015')"
   ]
  },
  {
   "cell_type": "code",
   "execution_count": 48,
   "metadata": {},
   "outputs": [
    {
     "data": {
      "text/plain": [
       "([<matplotlib.axis.XTick at 0x1a6da25cd30>,\n",
       "  <matplotlib.axis.XTick at 0x1a6da26b860>,\n",
       "  <matplotlib.axis.XTick at 0x1a6da2e1fd0>,\n",
       "  <matplotlib.axis.XTick at 0x1a6da2ec198>,\n",
       "  <matplotlib.axis.XTick at 0x1a6da2ec860>,\n",
       "  <matplotlib.axis.XTick at 0x1a6da2ecf28>,\n",
       "  <matplotlib.axis.XTick at 0x1a6da2f3630>,\n",
       "  <matplotlib.axis.XTick at 0x1a6da2f3cf8>,\n",
       "  <matplotlib.axis.XTick at 0x1a6da27a9e8>,\n",
       "  <matplotlib.axis.XTick at 0x1a6da303048>,\n",
       "  <matplotlib.axis.XTick at 0x1a6da30e4e0>,\n",
       "  <matplotlib.axis.XTick at 0x1a6da30eb38>,\n",
       "  <matplotlib.axis.XTick at 0x1a6da312208>,\n",
       "  <matplotlib.axis.XTick at 0x1a6da3128d0>,\n",
       "  <matplotlib.axis.XTick at 0x1a6da312f98>,\n",
       "  <matplotlib.axis.XTick at 0x1a6da3181d0>,\n",
       "  <matplotlib.axis.XTick at 0x1a6da318898>,\n",
       "  <matplotlib.axis.XTick at 0x1a6da318f60>,\n",
       "  <matplotlib.axis.XTick at 0x1a6da31e668>,\n",
       "  <matplotlib.axis.XTick at 0x1a6da31ed30>,\n",
       "  <matplotlib.axis.XTick at 0x1a6da324438>,\n",
       "  <matplotlib.axis.XTick at 0x1a6da324b00>,\n",
       "  <matplotlib.axis.XTick at 0x1a6da328208>,\n",
       "  <matplotlib.axis.XTick at 0x1a6da3288d0>,\n",
       "  <matplotlib.axis.XTick at 0x1a6da328f98>,\n",
       "  <matplotlib.axis.XTick at 0x1a6da32f6a0>,\n",
       "  <matplotlib.axis.XTick at 0x1a6da32fd68>,\n",
       "  <matplotlib.axis.XTick at 0x1a6da336470>,\n",
       "  <matplotlib.axis.XTick at 0x1a6da336b38>,\n",
       "  <matplotlib.axis.XTick at 0x1a6da0faef0>],\n",
       " <a list of 28 Text xticklabel objects>)"
      ]
     },
     "execution_count": 48,
     "metadata": {},
     "output_type": "execute_result"
    },
    {
     "data": {
      "text/plain": [
       "<matplotlib.figure.Figure at 0x1a6d9fd3908>"
      ]
     },
     "metadata": {},
     "output_type": "display_data"
    },
    {
     "data": {
      "image/png": "[encoded data removed]",
      "text/plain": [
       "<matplotlib.figure.Figure at 0x1a6da08cbe0>"
      ]
     },
     "metadata": {},
     "output_type": "display_data"
    }
   ],
   "source": [
    "plt.figure(figsize=(10,10))\n",
    "\n",
    "full_2015[['REGION15',\n",
    "           'FLUSHT53',\n",
    "           'DUPERSID']][full_2015['FLUSHT53'] >= -1].groupby(['FLUSHT53',\n",
    "                                                              'REGION15']).agg('count').plot(kind='bar',\n",
    "                                                                                                    figsize=(8,8),\n",
    "                                                                                                    legend=False,\n",
    "                                                                                                    title='Histogram of Time Since Last Flu Shot by Region-2015')\n",
    "plt.xlabel('Regions and Years Since Last Flu Shot')\n",
    "plt.ylabel('Count of Individuals')\n",
    "plt.xticks(range(0,30),['West: 0','South: 0','Midwest: 0','Northeast: 0',\n",
    "           'West: 1','South: 1','Midwest: 1','Northeast: 1',\n",
    "           'West: 2','South: 2','Midwest: 2','Northeast: 2',\n",
    "           'West: 3','South: 3','Midwest: 3','Northeast: 3',\n",
    "           'West: 4','South: 4','Midwest: 4','Northeast: 4',\n",
    "           'West: 5','South: 5','Midwest: 5','Northeast: 5',\n",
    "            'West: 6','South: 6','Midwest: 6','Northeast: 6'])"
   ]
  },
  {
   "cell_type": "markdown",
   "metadata": {},
   "source": [
    "### Cleaning for other years of data"
   ]
  },
  {
   "cell_type": "code",
   "execution_count": 49,
   "metadata": {},
   "outputs": [],
   "source": [
    "#2014 cleaning\n",
    "demo_list_2014 = ['DUPERSID','REGION14','AGE14X','SEX','RACEV1X','HISPANX','AFDC14','FOODMN14','FAMINC14',\n",
    "                  'POVLEV14','SSECP14X','MNHLTH53','HIBPDX','CHECK53','CHDDX','ANGIDX','MIDX','OHRTDX','STRKDX','EMPHDX',\n",
    "                  'CHBRON53','CHOLDX','CANCERDX','DIABDX','ARTHDX','ASTHDX','PREGNT53','FLUSHT53','BMINDX53','TMTKUS42',\n",
    "                  'NOHINS42','HELD53X','SICPAY53','UNINS14','INSURC14','NOINSTM','ERTOT14','OBTOTV14']\n",
    "full_2014 = full_2014[demo_list_2014]\n",
    "full_2014_dummies = pd.get_dummies(full_2014, columns=['REGION14','RACEV1X','AFDC14','MNHLTH53','HIBPDX','CHDDX',\n",
    "                                                       'ANGIDX','MIDX','OHRTDX','STRKDX','EMPHDX','CHBRON53','CHOLDX',\n",
    "                                                       'CANCERDX','DIABDX','ARTHDX','ASTHDX','PREGNT53',\n",
    "                                                       'TMTKUS42','NOHINS42','HELD53X','SICPAY53','INSURC14'])\n",
    "full_2014_dummies = full_2014_dummies.loc[:, ~full_2014_dummies.columns.str.endswith('-1')]\n",
    "full_2014_dummies = full_2014_dummies.loc[:, ~full_2014_dummies.columns.str.endswith('-2')]\n",
    "full_2014_dummies = full_2014_dummies.loc[:, ~full_2014_dummies.columns.str.endswith('-9')]\n",
    "full_2014_dummies = full_2014_dummies.loc[:, ~full_2014_dummies.columns.str.endswith('-8')]\n",
    "full_2014_dummies = full_2014_dummies.loc[:, ~full_2014_dummies.columns.str.endswith('-7')]\n",
    "\n",
    "full_2014_dummies = full_2014_dummies.drop(columns=['CHBRON53_2','CHOLDX_2','CANCERDX_2','DIABDX_2','ARTHDX_2','ASTHDX_2',\n",
    "                                                   'PREGNT53_2','NOHINS42_2','HELD53X_2','SICPAY53_2','ANGIDX_2'])\n",
    "\n",
    "full_2014_dummies.FOODMN14 = full_2014_dummies.FOODMN14.replace(-1,0)\n",
    "full_2014_dummies.CHECK53 = full_2014_dummies.CHECK53.replace(-1,0)\n",
    "full_2014_dummies.FLUSHT53 = full_2014_dummies.FLUSHT53.replace(-1,0)\n",
    "full_2014_dummies.NOINSTM = full_2014_dummies.NOINSTM.replace(-1,0)\n",
    "\n",
    "replace = full_2014[['POVLEV14','BMINDX53']]\n",
    "replace = replace.stack().str.replace(',','.').unstack()\n",
    "full_2014_dummies = full_2014_dummies.drop(columns=['POVLEV14','BMINDX53'])\n",
    "full_2014_dummies['POVLEV14'] = replace['POVLEV14']\n",
    "full_2014_dummies['BMINDX53'] = replace['BMINDX53']"
   ]
  },
  {
   "cell_type": "code",
   "execution_count": 50,
   "metadata": {},
   "outputs": [],
   "source": [
    "medical_conditions_2014 = medical_conditions_2014.drop(columns=['PANEL','CONDRN','AGEDIAG','ACCDNWRK','CRND1','CRND2',\n",
    "                                                                'CRND3','CRND4','CRND5','PERWT14F','INJURY',\n",
    "                                                               'VARSTR','VARPSU','DUID','PID','CONDIDX','Unnamed: 0'])\n",
    "medical_conditions_2014['flu_flag'] = np.where(medical_conditions_2014.CCCODEX==123,1,0)\n",
    "flu_DUPERSID_2014 = medical_conditions_2014.DUPERSID[medical_conditions_2014['flu_flag']==1]\n",
    "medical_conditions_2014_grouped = medical_conditions_2014.drop(columns=['CONDN','ICD9CODX','ICD9PROX','CCCODEX','flu_flag'])\n",
    "medical_conditions_2014_grouped  = medical_conditions_2014_grouped.groupby(['DUPERSID']).sum()\n"
   ]
  },
  {
   "cell_type": "code",
   "execution_count": 51,
   "metadata": {},
   "outputs": [],
   "source": [
    "prescription_drugs_2014 = prescription_drugs_2014.drop(columns=['Unnamed: 0','DUID','PID','DRUGIDX','LINKIDX','PANEL',\n",
    "                                                               'PURCHRD','RXBEGYRX','RXDRGNAM','RXQUANTY',\n",
    "                                                                'RXFORM','RXFRMUNT','RXSTRENG','RXSTRUNT','RXDAYSUP',\n",
    "                                                               'OMTYPE','PHARTP1','PHARTP2','PHARTP3','PHARTP4','PHARTP5',\n",
    "                                                               'PHARTP6','PHARTP7','PHARTP8','RXFLG','IMPFLAG','PCIMPFLG',\n",
    "                                                               'INPCFLG','SAMPLE','PREGCAT','TC1','TC1S1','TC1S1_1',\n",
    "                                                               'TC1S1_2','TC1S2','TC1S2_1','TC1S3','TC1S3_1','TC2','TC2S1',\n",
    "                                                                'TC2S1_1','TC2S1_2','TC2S2','TC3','TC3S1','TC3S1_1',\n",
    "                                                                'PERWT14F','VARSTR','VARPSU','RXSF14X','RXMR14X',\n",
    "                                                                'RXMD14X','RXPV14X','RXVA14X','RXTR14X','RXOF14X',\n",
    "                                                                'RXSL14X','RXWC14X','RXOT14X','RXOR14X','RXOU14X',\n",
    "                                                                'RXXP14X'])\n",
    "prescription_drugs_2014['Tamiflu_flag'] = np.where(prescription_drugs_2014.RXNAME=='TAMIFLU',1,0)\n",
    "TAMIFLU_DUPERSID_2014 = prescription_drugs_2014.DUPERSID[prescription_drugs_2014['Tamiflu_flag']==1]"
   ]
  },
  {
   "cell_type": "code",
   "execution_count": 52,
   "metadata": {},
   "outputs": [],
   "source": [
    "#2013 cleaning\n",
    "demo_list_2013 = ['DUPERSID','REGION13','AGE13X','SEX','RACEV1X','HISPANX','AFDC13','FOODMN13','FAMINC13',\n",
    "                  'POVLEV13','SSECP13X','MNHLTH53','HIBPDX','CHECK53','CHDDX','ANGIDX','MIDX','OHRTDX','STRKDX','EMPHDX',\n",
    "                  'CHBRON53','CHOLDX','CANCERDX','DIABDX','ARTHDX','ASTHDX','PREGNT53','FLUSHT53','BMINDX53','TMTKUS42',\n",
    "                  'NOHINS42','HELD53X','SICPAY53','UNINS13','INSURC13','NOINSTM','ERTOT13','OBTOTV13']\n",
    "full_2013 = full_2013[demo_list_2013]\n",
    "full_2013_dummies = pd.get_dummies(full_2013, columns=['REGION13','RACEV1X','AFDC13','MNHLTH53','HIBPDX','CHDDX',\n",
    "                                                       'ANGIDX','MIDX','OHRTDX','STRKDX','EMPHDX','CHBRON53','CHOLDX',\n",
    "                                                       'CANCERDX','DIABDX','ARTHDX','ASTHDX','PREGNT53',\n",
    "                                                       'TMTKUS42','NOHINS42','HELD53X','SICPAY53','INSURC13'])\n",
    "full_2013_dummies = full_2013_dummies.loc[:, ~full_2013_dummies.columns.str.endswith('-1')]\n",
    "full_2013_dummies = full_2013_dummies.loc[:, ~full_2013_dummies.columns.str.endswith('-2')]\n",
    "full_2013_dummies = full_2013_dummies.loc[:, ~full_2013_dummies.columns.str.endswith('-9')]\n",
    "full_2013_dummies = full_2013_dummies.loc[:, ~full_2013_dummies.columns.str.endswith('-8')]\n",
    "full_2013_dummies = full_2013_dummies.loc[:, ~full_2013_dummies.columns.str.endswith('-7')]\n",
    "\n",
    "full_2013_dummies = full_2013_dummies.drop(columns=['CHBRON53_2','CHOLDX_2','CANCERDX_2','DIABDX_2','ARTHDX_2','ASTHDX_2',\n",
    "                                                   'PREGNT53_2','NOHINS42_2','HELD53X_2','SICPAY53_2','ANGIDX_2'])\n",
    "\n",
    "full_2013_dummies.FOODMN13 = full_2013_dummies.FOODMN13.replace(-1,0)\n",
    "full_2013_dummies.CHECK53 = full_2013_dummies.CHECK53.replace(-1,0)\n",
    "full_2013_dummies.FLUSHT53 = full_2013_dummies.FLUSHT53.replace(-1,0)\n",
    "full_2013_dummies.NOINSTM = full_2013_dummies.NOINSTM.replace(-1,0)\n",
    "\n",
    "replace = full_2013[['POVLEV13','BMINDX53']]\n",
    "replace = replace.stack().str.replace(',','.').unstack()\n",
    "full_2013_dummies = full_2013_dummies.drop(columns=['POVLEV13','BMINDX53'])\n",
    "full_2013_dummies['POVLEV13'] = replace['POVLEV13']\n",
    "full_2013_dummies['BMINDX53'] = replace['BMINDX53']"
   ]
  },
  {
   "cell_type": "code",
   "execution_count": 53,
   "metadata": {},
   "outputs": [],
   "source": [
    "medical_conditions_2013 = medical_conditions_2013.drop(columns=['PANEL','CONDRN','AGEDIAG','ACCDNWRK','CRND1','CRND2',\n",
    "                                                                'CRND3','CRND4','CRND5','PERWT13F','INJURY',\n",
    "                                                               'VARSTR','VARPSU','DUID','PID','CONDIDX','Unnamed: 0'])\n",
    "medical_conditions_2013['flu_flag'] = np.where(medical_conditions_2013.CCCODEX==123,1,0)\n",
    "flu_DUPERSID_2013 = medical_conditions_2013.DUPERSID[medical_conditions_2013['flu_flag']==1]\n",
    "medical_conditions_2013_grouped = medical_conditions_2013.drop(columns=['CONDN','ICD9CODX','ICD9PROX','CCCODEX','flu_flag'])\n",
    "medical_conditions_2013_grouped  = medical_conditions_2013_grouped.groupby(['DUPERSID']).sum()"
   ]
  },
  {
   "cell_type": "code",
   "execution_count": 54,
   "metadata": {},
   "outputs": [],
   "source": [
    "prescription_drugs_2013 = prescription_drugs_2013.drop(columns=['Unnamed: 0','DUID','PID','DRUGIDX','LINKIDX','PANEL',\n",
    "                                                               'PURCHRD','RXBEGYRX','RXDRGNAM','RXQUANTY',\n",
    "                                                                'RXFORM','RXFRMUNT','RXSTRENG','RXSTRUNT','RXDAYSUP',\n",
    "                                                                'PHARTP1','PHARTP2','PHARTP3','PHARTP4','PHARTP5',\n",
    "                                                               'PHARTP6','PHARTP7','PHARTP8','RXFLG','IMPFLAG','PCIMPFLG',\n",
    "                                                               'INPCFLG','SAMPLE','PREGCAT','TC1','TC1S1','TC1S1_1',\n",
    "                                                               'TC1S1_2','TC1S2','TC1S2_1','TC1S3','TC1S3_1','TC2','TC2S1',\n",
    "                                                                'TC2S1_1','TC2S1_2','TC2S2','TC3','TC3S1','TC3S1_1',\n",
    "                                                                'PERWT13F','VARSTR','VARPSU','RXSF13X','RXMR13X',\n",
    "                                                                'RXMD13X','RXPV13X','RXVA13X','RXTR13X','RXOF13X',\n",
    "                                                                'RXSL13X','RXWC13X','RXOT13X','RXOR13X','RXOU13X',\n",
    "                                                                'RXXP13X','CLMOMFLG'])\n",
    "prescription_drugs_2013['Tamiflu_flag'] = np.where(prescription_drugs_2013.RXNAME=='TAMIFLU',1,0)\n",
    "TAMIFLU_DUPERSID_2013 = prescription_drugs_2013.DUPERSID[prescription_drugs_2013['Tamiflu_flag']==1]"
   ]
  },
  {
   "cell_type": "code",
   "execution_count": 55,
   "metadata": {},
   "outputs": [],
   "source": [
    "#2012 cleaning\n",
    "demo_list_2012 = ['DUPERSID','REGION12','AGE12X','SEX','RACEV1X','HISPANX','AFDC12','FOODMN12','FAMINC12',\n",
    "                  'POVLEV12','SSECP12X','MNHLTH53','HIBPDX','CHECK53','CHDDX','ANGIDX','MIDX','OHRTDX','STRKDX','EMPHDX',\n",
    "                  'CHBRON53','CHOLDX','CANCERDX','DIABDX','ARTHDX','ASTHDX','PREGNT53','FLUSHT53','BMINDX53','TMTKUS42',\n",
    "                  'NOHINS42','HELD53X','SICPAY53','UNINS12','INSURC12','NOINSTM','ERTOT12','OBTOTV12']\n",
    "full_2012 = full_2012[demo_list_2012]\n",
    "full_2012_dummies = pd.get_dummies(full_2012, columns=['REGION12','RACEV1X','AFDC12','MNHLTH53','HIBPDX','CHDDX',\n",
    "                                                       'ANGIDX','MIDX','OHRTDX','STRKDX','EMPHDX','CHBRON53','CHOLDX',\n",
    "                                                       'CANCERDX','DIABDX','ARTHDX','ASTHDX','PREGNT53',\n",
    "                                                       'TMTKUS42','NOHINS42','HELD53X','SICPAY53','INSURC12'])\n",
    "full_2012_dummies = full_2012_dummies.loc[:, ~full_2012_dummies.columns.str.endswith('-1')]\n",
    "full_2012_dummies = full_2012_dummies.loc[:, ~full_2012_dummies.columns.str.endswith('-2')]\n",
    "full_2012_dummies = full_2012_dummies.loc[:, ~full_2012_dummies.columns.str.endswith('-9')]\n",
    "full_2012_dummies = full_2012_dummies.loc[:, ~full_2012_dummies.columns.str.endswith('-8')]\n",
    "full_2012_dummies = full_2012_dummies.loc[:, ~full_2012_dummies.columns.str.endswith('-7')]\n",
    "\n",
    "full_2012_dummies = full_2012_dummies.drop(columns=['CHBRON53_2','CHOLDX_2','CANCERDX_2','DIABDX_2','ARTHDX_2','ASTHDX_2',\n",
    "                                                   'PREGNT53_2','NOHINS42_2','HELD53X_2','SICPAY53_2','RACEV1X_5','ANGIDX_2'])\n",
    "\n",
    "full_2012_dummies.FOODMN12 = full_2012_dummies.FOODMN12.replace(-1,0)\n",
    "full_2012_dummies.CHECK53 = full_2012_dummies.CHECK53.replace(-1,0)\n",
    "full_2012_dummies.FLUSHT53 = full_2012_dummies.FLUSHT53.replace(-1,0)\n",
    "full_2012_dummies.NOINSTM = full_2012_dummies.NOINSTM.replace(-1,0)\n",
    "\n",
    "replace = full_2012[['POVLEV12','BMINDX53']]\n",
    "replace = replace.stack().str.replace(',','.').unstack()\n",
    "full_2012_dummies = full_2012_dummies.drop(columns=['POVLEV12','BMINDX53'])\n",
    "full_2012_dummies['POVLEV12'] = replace['POVLEV12']\n",
    "full_2012_dummies['BMINDX53'] = replace['BMINDX53']"
   ]
  },
  {
   "cell_type": "code",
   "execution_count": 56,
   "metadata": {},
   "outputs": [],
   "source": [
    "medical_conditions_2012 = medical_conditions_2012.drop(columns=['PANEL','CONDRN','AGEDIAG','ACCDNWRK','CRND1','CRND2',\n",
    "                                                                'CRND3','CRND4','CRND5','PERWT12F','INJURY',\n",
    "                                                               'VARSTR','VARPSU','DUID','PID','CONDIDX','Unnamed: 0'])\n",
    "medical_conditions_2012['flu_flag'] = np.where(medical_conditions_2012.CCCODEX==123,1,0)\n",
    "flu_DUPERSID_2012 = medical_conditions_2012.DUPERSID[medical_conditions_2012['flu_flag']==1]\n",
    "medical_conditions_2012_grouped = medical_conditions_2012.drop(columns=['CONDN','ICD9CODX','ICD9PROX','CCCODEX','flu_flag',\n",
    "                                                                        'ACCDENTD','ACCDENTM','ACCDENTY','ACCDNJAN',\n",
    "                                                                        'INBEDFLG','MISSSCHL','MISSWORK','REMISSN'])\n",
    "medical_conditions_2012_grouped  = medical_conditions_2012_grouped.groupby(['DUPERSID']).sum()"
   ]
  },
  {
   "cell_type": "code",
   "execution_count": 57,
   "metadata": {},
   "outputs": [],
   "source": [
    "prescription_drugs_2012 = prescription_drugs_2012.drop(columns=['Unnamed: 0','DUID','PID','DRUGIDX','LINKIDX','PANEL',\n",
    "                                                               'PURCHRD','RXBEGYRX','RXQUANTY',\n",
    "                                                                'RXFORM','RXFRMUNT','RXSTRENG','RXSTRUNT','RXDAYSUP',\n",
    "                                                                'PHARTP1','PHARTP2','PHARTP3','PHARTP4','PHARTP5',\n",
    "                                                               'PHARTP6','PHARTP7','PHARTP8','RXFLG','IMPFLAG','PCIMPFLG',\n",
    "                                                               'INPCFLG','SAMPLE','PREGCAT','TC1','TC1S1','TC1S1_1',\n",
    "                                                               'TC1S1_2','TC1S2','TC1S2_1','TC1S3','TC1S3_1','TC2','TC2S1',\n",
    "                                                                'TC2S1_1','TC2S1_2','TC2S2','TC3','TC3S1','TC3S1_1',\n",
    "                                                                'PERWT12F','VARSTR','VARPSU','RXSF12X','RXMR12X',\n",
    "                                                                'RXMD12X','RXPV12X','RXVA12X','RXTR12X','RXOF12X',\n",
    "                                                                'RXSL12X','RXWC12X','RXOT12X','RXOR12X','RXOU12X',\n",
    "                                                                'RXXP12X','CLMOMFLG', 'PHARTP10', 'PHARTP9', 'RXBEGDD', \n",
    "                                                                'RXICD1X', 'RXICD2X', 'RXICD3X'])\n",
    "prescription_drugs_2012['Tamiflu_flag'] = np.where(prescription_drugs_2012.RXNAME=='TAMIFLU',1,0)\n",
    "TAMIFLU_DUPERSID_2012 = prescription_drugs_2012.DUPERSID[prescription_drugs_2012['Tamiflu_flag']==1]"
   ]
  },
  {
   "cell_type": "markdown",
   "metadata": {},
   "source": [
    "### Year by Year Dataframe Joining"
   ]
  },
  {
   "cell_type": "code",
   "execution_count": 58,
   "metadata": {},
   "outputs": [
    {
     "name": "stdout",
     "output_type": "stream",
     "text": [
      "(35427, 68)\n",
      "(34875, 68)\n",
      "(36940, 68)\n",
      "(38974, 68)\n"
     ]
    }
   ],
   "source": [
    "print(full_2015_dummies.shape)\n",
    "print(full_2014_dummies.shape)\n",
    "print(full_2013_dummies.shape)\n",
    "print(full_2012_dummies.shape)"
   ]
  },
  {
   "cell_type": "code",
   "execution_count": 59,
   "metadata": {},
   "outputs": [
    {
     "name": "stdout",
     "output_type": "stream",
     "text": [
      "(26621, 6)\n",
      "(25870, 6)\n",
      "(28576, 6)\n",
      "(29537, 6)\n"
     ]
    }
   ],
   "source": [
    "print(medical_conditions_2015_grouped.shape)\n",
    "print(medical_conditions_2014_grouped.shape)\n",
    "print(medical_conditions_2013_grouped.shape)\n",
    "print(medical_conditions_2012_grouped.shape)"
   ]
  },
  {
   "cell_type": "code",
   "execution_count": 60,
   "metadata": {},
   "outputs": [
    {
     "name": "stdout",
     "output_type": "stream",
     "text": [
      "(330453, 9)\n",
      "(319467, 9)\n",
      "(327557, 9)\n",
      "(324744, 9)\n"
     ]
    }
   ],
   "source": [
    "print(prescription_drugs_2015.shape)\n",
    "print(prescription_drugs_2014.shape)\n",
    "print(prescription_drugs_2013.shape)\n",
    "print(prescription_drugs_2012.shape)"
   ]
  },
  {
   "cell_type": "code",
   "execution_count": 61,
   "metadata": {},
   "outputs": [],
   "source": [
    "join2 = full_2014_dummies.join(medical_conditions_2014_grouped,on='DUPERSID')\n",
    "join2 = join2.fillna(0)\n",
    "\n",
    "join2['flu_flag'] = np.where(join2.DUPERSID.isin(flu_DUPERSID_2014),1,0)\n",
    "join2['tamiflu_flag'] = np.where(join2.DUPERSID.isin(TAMIFLU_DUPERSID_2014),1,0)\n",
    "\n",
    "join2['Year'] = 2014"
   ]
  },
  {
   "cell_type": "code",
   "execution_count": 62,
   "metadata": {},
   "outputs": [],
   "source": [
    "join3 = full_2013_dummies.join(medical_conditions_2013_grouped,on='DUPERSID')\n",
    "join3 = join3.fillna(0)\n",
    "\n",
    "join3['flu_flag'] = np.where(join3.DUPERSID.isin(flu_DUPERSID_2013),1,0)\n",
    "join3['tamiflu_flag'] = np.where(join3.DUPERSID.isin(TAMIFLU_DUPERSID_2013),1,0)\n",
    "\n",
    "join3['Year'] = 2013"
   ]
  },
  {
   "cell_type": "code",
   "execution_count": 63,
   "metadata": {},
   "outputs": [],
   "source": [
    "join4 = full_2012_dummies.join(medical_conditions_2012_grouped,on='DUPERSID')\n",
    "join4 = join4.fillna(0)\n",
    "\n",
    "join4['flu_flag'] = np.where(join4.DUPERSID.isin(flu_DUPERSID_2012),1,0)\n",
    "join4['tamiflu_flag'] = np.where(join4.DUPERSID.isin(TAMIFLU_DUPERSID_2012),1,0)\n",
    "\n",
    "join4['Year'] = 2012"
   ]
  },
  {
   "cell_type": "code",
   "execution_count": 64,
   "metadata": {},
   "outputs": [
    {
     "name": "stdout",
     "output_type": "stream",
     "text": [
      "2015 No flu but Tamiflu:  28\n",
      "2014 No flu but Tamiflu:  38\n",
      "2013 No flu but Tamiflu:  23\n",
      "2012 No flu but Tamiflu:  25\n",
      "\n",
      "2015 flu but no Tamiflu:  1542\n",
      "2014 flu but no Tamiflu:  1606\n",
      "2013 flu but no Tamiflu:  3060\n",
      "2012 flu but no Tamiflu:  3025\n",
      "\n",
      "2015 flu and Tamiflu:  153\n",
      "2014 flu and Tamiflu:  197\n",
      "2013 flu and Tamiflu:  154\n",
      "2012 flu and Tamiflu:  86\n"
     ]
    }
   ],
   "source": [
    "#Check some counts in all the years\n",
    "print(\"2015 No flu but Tamiflu: \",join1[(join1['flu_flag']==0) & (join1['tamiflu_flag']==1)].shape[0])\n",
    "print(\"2014 No flu but Tamiflu: \",join2[(join2['flu_flag']==0) & (join2['tamiflu_flag']==1)].shape[0])\n",
    "print(\"2013 No flu but Tamiflu: \",join3[(join3['flu_flag']==0) & (join3['tamiflu_flag']==1)].shape[0])\n",
    "print(\"2012 No flu but Tamiflu: \",join4[(join4['flu_flag']==0) & (join4['tamiflu_flag']==1)].shape[0])\n",
    "print()      \n",
    "\n",
    "print(\"2015 flu but no Tamiflu: \",join1[(join1['flu_flag']==1) & (join1['tamiflu_flag']==0)].shape[0])\n",
    "print(\"2014 flu but no Tamiflu: \",join2[(join2['flu_flag']==1) & (join2['tamiflu_flag']==0)].shape[0])\n",
    "print(\"2013 flu but no Tamiflu: \",join3[(join3['flu_flag']==1) & (join3['tamiflu_flag']==0)].shape[0])\n",
    "print(\"2012 flu but no Tamiflu: \",join4[(join4['flu_flag']==1) & (join4['tamiflu_flag']==0)].shape[0])\n",
    "print()\n",
    "print(\"2015 flu and Tamiflu: \",join1[(join1['flu_flag']==1) & (join1['tamiflu_flag']==1)].shape[0])\n",
    "print(\"2014 flu and Tamiflu: \",join2[(join2['flu_flag']==1) & (join2['tamiflu_flag']==1)].shape[0])\n",
    "print(\"2013 flu and Tamiflu: \",join3[(join3['flu_flag']==1) & (join3['tamiflu_flag']==1)].shape[0])\n",
    "print(\"2012 flu and Tamiflu: \",join4[(join4['flu_flag']==1) & (join4['tamiflu_flag']==1)].shape[0])"
   ]
  },
  {
   "cell_type": "markdown",
   "metadata": {},
   "source": [
    "### Rename Columns - to make slicing simpler going forward"
   ]
  },
  {
   "cell_type": "code",
   "execution_count": 65,
   "metadata": {},
   "outputs": [],
   "source": [
    "cols_to_rename1 = sorted(list(set(join1.columns) - set(join2.columns)))\n",
    "cols_to_rename2 = sorted(list(set(join2.columns) - set(join1.columns)))\n",
    "cols_to_rename3 = sorted(list(set(join3.columns) - set(join1.columns)))\n",
    "cols_to_rename4 = sorted(list(set(join4.columns) - set(join1.columns)))\n",
    "\n",
    "dict1 = dict(zip(cols_to_rename2, cols_to_rename1))\n",
    "dict2 = dict(zip(cols_to_rename3, cols_to_rename1))\n",
    "dict3 = dict(zip(cols_to_rename4, cols_to_rename1))\n",
    "\n",
    "join2 = join2.rename(index = str, columns=dict1)\n",
    "join3 = join3.rename(index = str, columns=dict2)\n",
    "join4 = join4.rename(index = str, columns=dict3)"
   ]
  },
  {
   "cell_type": "markdown",
   "metadata": {},
   "source": [
    "## Incorporating Google Trends data for each year\n",
    "\n",
    "Values are calculated on a scale from 0 to 100, where 100 is the location with the most popularity as a fraction of total searches in that location, a value of 50 indicates a location which is half as popular. A value of 0 indicates a location where there was not enough data for this term.\n",
    "\n",
    "Note: A higher value means a higher proportion of all queries, not a higher absolute query count. So a tiny state where 80% of the queries are for \"bananas\" will get twice the score of a giant country where only 40% of the queries are for \"bananas\"."
   ]
  },
  {
   "cell_type": "code",
   "execution_count": 66,
   "metadata": {},
   "outputs": [],
   "source": [
    "#Lists for states in each Census Region\n",
    "northeast1 = ['Connecticut', 'Maine', 'Massachusetts', 'New Hampshire', 'New Jersey','New York', \n",
    "             'Pennsylvania', 'Rhode Island', 'Vermont']\n",
    "midwest2 = ['Indiana', 'Illinois', 'Iowa', 'Kansas', 'Michigan', 'Minnesota', 'Missouri','Nebraska', 'North Dakota', \n",
    "            'Ohio', 'South Dakota', 'Wisconsin']\n",
    "south3 = ['Alabama', 'Arkansas', 'Delaware, District of Columbia', 'Florida','Georgia', 'Kentucky', 'Louisiana', \n",
    "          'Maryland', 'Mississippi', 'North Carolina', 'Oklahoma', 'South Carolina', 'Tennessee', \n",
    "          'Texas', 'Virginia', 'West Virginia']\n",
    "west4 = ['Alaska', 'Arizona', 'California', 'Colorado', 'Hawaii', 'Idaho', 'Montana', 'Nevada', 'New Mexico', \n",
    "         'Oregon', 'Utah', 'Washington', 'Wyoming' ]\n",
    "trends_2012 = pd.read_csv('trends_2012.csv', skiprows=2)\n",
    "trends_2013 = pd.read_csv('trends_2013.csv', skiprows=2)\n",
    "trends_2014 = pd.read_csv('trends_2014.csv', skiprows=2)\n",
    "trends_2015 = pd.read_csv('trends_2015.csv', skiprows=2)"
   ]
  },
  {
   "cell_type": "code",
   "execution_count": 67,
   "metadata": {},
   "outputs": [],
   "source": [
    "#northeast for all years\n",
    "northeast_2012 = trends_2012[trends_2012['Region'].isin(northeast1)]['influenza + flu + flu symptoms + flu treatments + flu remedies: (2012)'].mean()\n",
    "northeast_2013 = trends_2013[trends_2013['Region'].isin(northeast1)]['influenza + flu + flu symptoms + flu treatments + flu remedies: (2013)'].mean()\n",
    "northeast_2014 = trends_2014[trends_2014['Region'].isin(northeast1)]['influenza + flu + flu symptoms + flu treatments + flu remedies: (2014)'].mean()\n",
    "northeast_2015 = trends_2015[trends_2015['Region'].isin(northeast1)]['influenza + flu + flu symptoms + flu treatments + flu remedies: (2015)'].mean()\n",
    "\n",
    "northeast = [northeast_2012, northeast_2013, northeast_2014, northeast_2015]"
   ]
  },
  {
   "cell_type": "code",
   "execution_count": 68,
   "metadata": {},
   "outputs": [],
   "source": [
    "#midwest for all years\n",
    "midwest_2012 = trends_2012[trends_2012['Region'].isin(midwest2)]['influenza + flu + flu symptoms + flu treatments + flu remedies: (2012)'].mean()\n",
    "midwest_2013 = trends_2013[trends_2013['Region'].isin(midwest2)]['influenza + flu + flu symptoms + flu treatments + flu remedies: (2013)'].mean()\n",
    "midwest_2014 = trends_2014[trends_2014['Region'].isin(midwest2)]['influenza + flu + flu symptoms + flu treatments + flu remedies: (2014)'].mean()\n",
    "midwest_2015 = trends_2015[trends_2015['Region'].isin(midwest2)]['influenza + flu + flu symptoms + flu treatments + flu remedies: (2015)'].mean()\n",
    "\n",
    "midwest = [midwest_2012, midwest_2013, midwest_2014, midwest_2015]"
   ]
  },
  {
   "cell_type": "code",
   "execution_count": 69,
   "metadata": {},
   "outputs": [],
   "source": [
    "#south for all years\n",
    "south_2012 = trends_2012[trends_2012['Region'].isin(south3)]['influenza + flu + flu symptoms + flu treatments + flu remedies: (2012)'].mean()\n",
    "south_2013 = trends_2013[trends_2013['Region'].isin(south3)]['influenza + flu + flu symptoms + flu treatments + flu remedies: (2013)'].mean()\n",
    "south_2014 = trends_2014[trends_2014['Region'].isin(south3)]['influenza + flu + flu symptoms + flu treatments + flu remedies: (2014)'].mean()\n",
    "south_2015 = trends_2015[trends_2015['Region'].isin(south3)]['influenza + flu + flu symptoms + flu treatments + flu remedies: (2015)'].mean()\n",
    "\n",
    "south = [south_2012, south_2013,south_2014, south_2015]"
   ]
  },
  {
   "cell_type": "code",
   "execution_count": 70,
   "metadata": {},
   "outputs": [],
   "source": [
    "#west for all years\n",
    "west_2012 = trends_2012[trends_2012['Region'].isin(west4)]['influenza + flu + flu symptoms + flu treatments + flu remedies: (2012)'].mean()\n",
    "west_2013 = trends_2013[trends_2013['Region'].isin(west4)]['influenza + flu + flu symptoms + flu treatments + flu remedies: (2013)'].mean()\n",
    "west_2014 = trends_2014[trends_2014['Region'].isin(west4)]['influenza + flu + flu symptoms + flu treatments + flu remedies: (2014)'].mean()\n",
    "west_2015 = trends_2015[trends_2015['Region'].isin(west4)]['influenza + flu + flu symptoms + flu treatments + flu remedies: (2015)'].mean()\n",
    "\n",
    "west = [west_2012, west_2013, west_2014, west_2015]"
   ]
  },
  {
   "cell_type": "code",
   "execution_count": 71,
   "metadata": {},
   "outputs": [
    {
     "data": {
      "text/html": [
       "<div>\n",
       "<style scoped>\n",
       "    .dataframe tbody tr th:only-of-type {\n",
       "        vertical-align: middle;\n",
       "    }\n",
       "\n",
       "    .dataframe tbody tr th {\n",
       "        vertical-align: top;\n",
       "    }\n",
       "\n",
       "    .dataframe thead th {\n",
       "        text-align: right;\n",
       "    }\n",
       "</style>\n",
       "<table border=\"1\" class=\"dataframe\">\n",
       "  <thead>\n",
       "    <tr style=\"text-align: right;\">\n",
       "      <th></th>\n",
       "      <th>Year</th>\n",
       "      <th>1</th>\n",
       "      <th>2</th>\n",
       "      <th>3</th>\n",
       "      <th>4</th>\n",
       "    </tr>\n",
       "  </thead>\n",
       "  <tbody>\n",
       "    <tr>\n",
       "      <th>0</th>\n",
       "      <td>2012</td>\n",
       "      <td>0.652222</td>\n",
       "      <td>0.756667</td>\n",
       "      <td>0.712667</td>\n",
       "      <td>0.645385</td>\n",
       "    </tr>\n",
       "    <tr>\n",
       "      <th>1</th>\n",
       "      <td>2013</td>\n",
       "      <td>0.772222</td>\n",
       "      <td>0.820833</td>\n",
       "      <td>0.792667</td>\n",
       "      <td>0.710000</td>\n",
       "    </tr>\n",
       "    <tr>\n",
       "      <th>2</th>\n",
       "      <td>2014</td>\n",
       "      <td>0.702222</td>\n",
       "      <td>0.854167</td>\n",
       "      <td>0.800000</td>\n",
       "      <td>0.700000</td>\n",
       "    </tr>\n",
       "    <tr>\n",
       "      <th>3</th>\n",
       "      <td>2015</td>\n",
       "      <td>0.508889</td>\n",
       "      <td>0.630000</td>\n",
       "      <td>0.532667</td>\n",
       "      <td>0.503077</td>\n",
       "    </tr>\n",
       "  </tbody>\n",
       "</table>\n",
       "</div>"
      ],
      "text/plain": [
       "   Year         1         2         3         4\n",
       "0  2012  0.652222  0.756667  0.712667  0.645385\n",
       "1  2013  0.772222  0.820833  0.792667  0.710000\n",
       "2  2014  0.702222  0.854167  0.800000  0.700000\n",
       "3  2015  0.508889  0.630000  0.532667  0.503077"
      ]
     },
     "execution_count": 71,
     "metadata": {},
     "output_type": "execute_result"
    }
   ],
   "source": [
    "#create average percentages for each region for each year\n",
    "year = [2012,2013,2014,2015]\n",
    "\n",
    "trend_regions = pd.DataFrame(year, columns=['Year'])\n",
    "trend_regions['1'] = [x/100 for x in northeast]\n",
    "trend_regions['2'] = [x/100 for x in midwest]\n",
    "trend_regions['3'] = [x/100 for x in south]\n",
    "trend_regions['4'] =[x/100 for x in west]\n",
    "trend_regions"
   ]
  },
  {
   "cell_type": "code",
   "execution_count": 72,
   "metadata": {},
   "outputs": [],
   "source": [
    "#for 2015 create columns that adds the average flu trend search proportion to each row for the appropriate region\n",
    "flu_region_2015 = pd.Series()\n",
    "for row in range(join1.shape[0]):\n",
    "    if join1['REGION15_1'][row]==1:\n",
    "        flu_region_2015=flu_region_2015.append(trend_regions[3:]['1'], ignore_index=True)\n",
    "    elif join1['REGION15_2'][row]==1:\n",
    "        flu_region_2015=flu_region_2015.append(trend_regions[3:]['2'], ignore_index=True)\n",
    "    elif join1['REGION15_3'][row]==1:\n",
    "        flu_region_2015=flu_region_2015.append(trend_regions[3:]['3'], ignore_index=True)\n",
    "    elif join1['REGION15_4'][row]==1:\n",
    "        flu_region_2015=flu_region_2015.append(trend_regions[3:]['4'], ignore_index=True)\n",
    "    else:\n",
    "        flu_region_2015[row]=0\n",
    "        \n",
    "join1['flu_region'] = flu_region_2015.values       "
   ]
  },
  {
   "cell_type": "code",
   "execution_count": 73,
   "metadata": {},
   "outputs": [],
   "source": [
    "#for 2014 create columns that adds the average flu trend search proportion to each row for the appropriate region\n",
    "flu_region_2014 = pd.Series()\n",
    "for row in range(join2.shape[0]):\n",
    "    if join2['REGION15_1'][row]==1:\n",
    "        flu_region_2014=flu_region_2014.append(trend_regions[2:3]['1'], ignore_index=True)\n",
    "    elif join2['REGION15_2'][row]==1:\n",
    "        flu_region_2014=flu_region_2014.append(trend_regions[2:3]['2'], ignore_index=True)\n",
    "    elif join2['REGION15_3'][row]==1:\n",
    "        flu_region_2014=flu_region_2014.append(trend_regions[2:3]['3'], ignore_index=True)\n",
    "    elif join2['REGION15_4'][row]==1:\n",
    "        flu_region_2014=flu_region_2014.append(trend_regions[2:3]['4'], ignore_index=True)\n",
    "    else:\n",
    "        flu_region_2014[row]=0\n",
    "        \n",
    "join2['flu_region'] = flu_region_2014.values"
   ]
  },
  {
   "cell_type": "code",
   "execution_count": 74,
   "metadata": {},
   "outputs": [],
   "source": [
    "#for 2013 create columns that adds the average flu trend search proportion to each row for the appropriate region\n",
    "flu_region_2013 = pd.Series()\n",
    "for row in range(join3.shape[0]):\n",
    "    if join3['REGION15_1'][row]==1:\n",
    "        flu_region_2013=flu_region_2013.append(trend_regions[1:2]['1'], ignore_index=True)\n",
    "    elif join3['REGION15_2'][row]==1:\n",
    "        flu_region_2013=flu_region_2013.append(trend_regions[1:2]['2'], ignore_index=True)\n",
    "    elif join3['REGION15_3'][row]==1:\n",
    "        flu_region_2013=flu_region_2013.append(trend_regions[1:2]['3'], ignore_index=True)\n",
    "    elif join3['REGION15_4'][row]==1:\n",
    "        flu_region_2013=flu_region_2013.append(trend_regions[1:2]['4'], ignore_index=True)\n",
    "    else:\n",
    "        flu_region_2013[row]=0\n",
    "        \n",
    "join3['flu_region'] = flu_region_2013.values"
   ]
  },
  {
   "cell_type": "code",
   "execution_count": 75,
   "metadata": {},
   "outputs": [],
   "source": [
    "#for 2012 create columns that adds the average flu trend search proportion to each row for the appropriate region\n",
    "flu_region_2012 = pd.Series()\n",
    "for row in range(join4.shape[0]):\n",
    "    if join4['REGION15_1'][row]==1:\n",
    "        flu_region_2012=flu_region_2012.append(trend_regions[0:1]['1'], ignore_index=True)\n",
    "    elif join4['REGION15_2'][row]==1:\n",
    "        flu_region_2012=flu_region_2012.append(trend_regions[0:1]['2'], ignore_index=True)\n",
    "    elif join4['REGION15_3'][row]==1:\n",
    "        flu_region_2012=flu_region_2012.append(trend_regions[0:1]['3'], ignore_index=True)\n",
    "    elif join4['REGION15_4'][row]==1:\n",
    "        flu_region_2012=flu_region_2012.append(trend_regions[0:1]['4'], ignore_index=True)\n",
    "    else:\n",
    "        flu_region_2012[row]=0\n",
    "        \n",
    "join4['flu_region'] = flu_region_2012.values"
   ]
  },
  {
   "cell_type": "markdown",
   "metadata": {},
   "source": [
    "## Joining  years together"
   ]
  },
  {
   "cell_type": "code",
   "execution_count": 76,
   "metadata": {},
   "outputs": [],
   "source": [
    "#2015 as testing, 2012-2014 as training for now\n",
    "training = join2.append(join3, ignore_index=True)\n",
    "training = training.append(join4, ignore_index=True)\n",
    "\n",
    "testing = join1"
   ]
  },
  {
   "cell_type": "markdown",
   "metadata": {},
   "source": [
    "### Imputations"
   ]
  },
  {
   "cell_type": "code",
   "execution_count": 77,
   "metadata": {},
   "outputs": [],
   "source": [
    "#imputation function\n",
    "def imputer(df, numeric_columns, vals):\n",
    "    \"\"\"This function checks the columns types for each column and depending on the type will impute \n",
    "    values from the given list of values.  \n",
    "    Categorical = most frequent\n",
    "    Numeric = mean\n",
    "    \"\"\"\n",
    "    for col in df.columns:\n",
    "        for val in vals:\n",
    "            if col in numeric_columns:\n",
    "                df[col] = df[col].replace(val,df[col].mean())\n",
    "            else:\n",
    "                df[col] = df[col].replace(val,df[col].value_counts().index[0])\n",
    "    return df\n",
    "        "
   ]
  },
  {
   "cell_type": "code",
   "execution_count": 78,
   "metadata": {},
   "outputs": [],
   "source": [
    "#check variable types and change accordingly then impute columns for certain vals\n",
    "training['POVLEV15'] = training['POVLEV15'].astype('float64')\n",
    "training['BMINDX53'] = training['BMINDX53'].astype('float64')\n",
    "\n",
    "numeric = ['AGE15X','FOODMN15','FAMINC15','SSECP15X','FLUSHT53','OBTOTV15','POVLEV15','BMINDX53',\n",
    "           'HHNUM','IPNUM','OPNUM','OBNUM','ERNUM','RXNUM']\n",
    "vals = [-8,-9]\n",
    "impute = imputer(training,numeric,vals)"
   ]
  },
  {
   "cell_type": "code",
   "execution_count": 79,
   "metadata": {},
   "outputs": [
    {
     "name": "stdout",
     "output_type": "stream",
     "text": [
      "2065\n",
      "1975\n",
      "2027\n",
      "2410\n"
     ]
    }
   ],
   "source": [
    "#for each year check counts of imputed values\n",
    "counter1 = 0\n",
    "for col in join1.columns:\n",
    "    if -8 in join1[col].values:\n",
    "        series = join1[join1[col]==-8]\n",
    "        counter1 = counter1 + series.shape[0]\n",
    "    if -9 in join1[col].values:\n",
    "        series = join1[join1[col]==-9]\n",
    "        counter1 = counter1 + series.shape[0]\n",
    "        \n",
    "counter2 = 0\n",
    "for col in join2.columns:\n",
    "    if -8 in join2[col].values:\n",
    "        series = join2[join2[col]==-8]\n",
    "        counter2 = counter2 + series.shape[0]\n",
    "    if -9 in join2[col].values:\n",
    "        series = join2[join2[col]==-9]\n",
    "        counter2 = counter2 + series.shape[0]\n",
    "        \n",
    "counter3 = 0\n",
    "for col in join3.columns:\n",
    "    if -8 in join3[col].values:\n",
    "        series = join3[join3[col]==-8]\n",
    "        counter3 = counter3 + series.shape[0]\n",
    "    if -9 in join3[col].values:\n",
    "        series = join3[join3[col]==-9]\n",
    "        counter3 = counter3 + series.shape[0]\n",
    "        \n",
    "counter4 = 0\n",
    "for col in join4.columns:\n",
    "    if -8 in join4[col].values:\n",
    "        series = join4[join4[col]==-8]\n",
    "        counter4 = counter4 + series.shape[0]\n",
    "    if -9 in join4[col].values:\n",
    "        series = join4[join4[col]==-9]\n",
    "        counter4 = counter4 + series.shape[0]\n",
    "        \n",
    "print(counter1)\n",
    "print(counter2)\n",
    "print(counter3)\n",
    "print(counter4)"
   ]
  },
  {
   "cell_type": "markdown",
   "metadata": {},
   "source": [
    "## Model Investigations - all years, still with skewed samples\n",
    "\n",
    "### Random Forest and Gradient Boosting"
   ]
  },
  {
   "cell_type": "code",
   "execution_count": 80,
   "metadata": {},
   "outputs": [],
   "source": [
    "#Random Forest\n",
    "randomforest = RandomForestClassifier(n_estimators=200,criterion='entropy',n_jobs=-1)\n",
    "\n",
    "ytrain = training.flu_flag\n",
    "xtrain = training.drop(columns=['flu_flag','DUPERSID'])\n",
    "ytest = testing.flu_flag\n",
    "xtest = testing.drop(columns=['flu_flag','DUPERSID'])"
   ]
  },
  {
   "cell_type": "code",
   "execution_count": 81,
   "metadata": {},
   "outputs": [],
   "source": [
    "randomforest.fit(xtrain, ytrain)\n",
    "predictions = randomforest.predict(xtest)"
   ]
  },
  {
   "cell_type": "code",
   "execution_count": 82,
   "metadata": {},
   "outputs": [
    {
     "name": "stdout",
     "output_type": "stream",
     "text": [
      "Test Accuracy Rate:  0.956\n"
     ]
    },
    {
     "data": {
      "text/plain": [
       "array([[33707,    25],\n",
       "       [ 1546,   149]], dtype=int64)"
      ]
     },
     "execution_count": 82,
     "metadata": {},
     "output_type": "execute_result"
    }
   ],
   "source": [
    "print('Test Accuracy Rate: ',round(accuracy_score(ytest, predictions),3))\n",
    "confusion_matrix(ytest, predictions)"
   ]
  },
  {
   "cell_type": "code",
   "execution_count": 83,
   "metadata": {},
   "outputs": [
    {
     "data": {
      "image/png": "[encoded data removed]",
      "text/plain": [
       "<matplotlib.figure.Figure at 0x1a683a4ee10>"
      ]
     },
     "metadata": {},
     "output_type": "display_data"
    }
   ],
   "source": [
    "fpr, tpr, _ = roc_curve(ytest, predictions)\n",
    "roc_auc = auc(fpr, tpr)\n",
    "\n",
    "plt.figure(figsize=(8,8))\n",
    "lw = 2\n",
    "plt.plot(fpr, tpr, color='darkorange',\n",
    "         lw=lw, label='ROC curve (area = %0.2f)' % roc_auc)\n",
    "plt.plot([0, 1], [0, 1], color='navy', lw=lw, linestyle='--')\n",
    "plt.xlim([0.0, 1.0])\n",
    "plt.ylim([0.0, 1.05])\n",
    "plt.xlabel('False Positive Rate')\n",
    "plt.ylabel('True Positive Rate')\n",
    "plt.title('Receiver operating characteristic')\n",
    "plt.legend(loc=\"lower right\")\n",
    "plt.show()"
   ]
  },
  {
   "cell_type": "code",
   "execution_count": 84,
   "metadata": {},
   "outputs": [
    {
     "data": {
      "text/plain": [
       "Text(0.5,1,'Variable Importance from Random Forest Model')"
      ]
     },
     "execution_count": 84,
     "metadata": {},
     "output_type": "execute_result"
    },
    {
     "data": {
      "image/png": "[encoded data removed]",
      "text/plain": [
       "<matplotlib.figure.Figure at 0x1a6e1d8a860>"
      ]
     },
     "metadata": {},
     "output_type": "display_data"
    }
   ],
   "source": [
    "var_importance = pd.DataFrame(xtrain.columns)\n",
    "var_importance['Importance'] = randomforest.feature_importances_\n",
    "var_import = dict(zip(var_importance.sort_values(by=['Importance'], ascending=False)[0], \n",
    "                      var_importance.sort_values(by=['Importance'], ascending=False).Importance))\n",
    "values = list(var_import.values())[0:12]\n",
    "labels = list(var_import.keys())[0:12]\n",
    "\n",
    "plt.figure(figsize=(8,8))\n",
    "plt.barh(range(12),values[::-1])\n",
    "plt.yticks(range(12),labels[::-1])\n",
    "plt.ylabel('Variable Name')\n",
    "plt.xlabel('Variable Importance')\n",
    "plt.title('Variable Importance from Random Forest Model')\n"
   ]
  },
  {
   "cell_type": "code",
   "execution_count": 85,
   "metadata": {},
   "outputs": [
    {
     "name": "stdout",
     "output_type": "stream",
     "text": [
      "Test Accuracy Rate:  0.935\n"
     ]
    },
    {
     "data": {
      "text/plain": [
       "array([[33084,   648],\n",
       "       [ 1642,    53]], dtype=int64)"
      ]
     },
     "execution_count": 85,
     "metadata": {},
     "output_type": "execute_result"
    }
   ],
   "source": [
    "#Gradient Boosting\n",
    "from sklearn.ensemble import GradientBoostingClassifier\n",
    "\n",
    "gradientboosting = GradientBoostingClassifier(n_estimators=200, learning_rate=1.0, max_depth=5, )\n",
    "gradientboosting.fit(xtrain, ytrain)\n",
    "\n",
    "predictions2 = gradientboosting.predict(xtest)\n",
    "print('Test Accuracy Rate: ',round(accuracy_score(ytest, predictions2),3))\n",
    "confusion_matrix(ytest, predictions2)"
   ]
  },
  {
   "cell_type": "code",
   "execution_count": 86,
   "metadata": {},
   "outputs": [
    {
     "data": {
      "image/png": "[encoded data removed]",
      "text/plain": [
       "<matplotlib.figure.Figure at 0x1a6d9b125c0>"
      ]
     },
     "metadata": {},
     "output_type": "display_data"
    }
   ],
   "source": [
    "fpr, tpr, _ = roc_curve(ytest, predictions2)\n",
    "roc_auc = auc(fpr, tpr)\n",
    "\n",
    "plt.figure()\n",
    "lw = 2\n",
    "plt.plot(fpr, tpr, color='darkorange',\n",
    "         lw=lw, label='ROC curve (area = %0.2f)' % roc_auc)\n",
    "plt.plot([0, 1], [0, 1], color='navy', lw=lw, linestyle='--')\n",
    "plt.xlim([0.0, 1.0])\n",
    "plt.ylim([0.0, 1.05])\n",
    "plt.xlabel('False Positive Rate')\n",
    "plt.ylabel('True Positive Rate')\n",
    "plt.title('Receiver operating characteristic example')\n",
    "plt.legend(loc=\"lower right\")\n",
    "plt.show()"
   ]
  },
  {
   "cell_type": "code",
   "execution_count": 87,
   "metadata": {},
   "outputs": [
    {
     "data": {
      "text/html": [
       "<div>\n",
       "<style scoped>\n",
       "    .dataframe tbody tr th:only-of-type {\n",
       "        vertical-align: middle;\n",
       "    }\n",
       "\n",
       "    .dataframe tbody tr th {\n",
       "        vertical-align: top;\n",
       "    }\n",
       "\n",
       "    .dataframe thead th {\n",
       "        text-align: right;\n",
       "    }\n",
       "</style>\n",
       "<table border=\"1\" class=\"dataframe\">\n",
       "  <thead>\n",
       "    <tr style=\"text-align: right;\">\n",
       "      <th></th>\n",
       "      <th>0</th>\n",
       "      <th>Importance</th>\n",
       "    </tr>\n",
       "  </thead>\n",
       "  <tbody>\n",
       "    <tr>\n",
       "      <th>73</th>\n",
       "      <td>tamiflu_flag</td>\n",
       "      <td>0.814297</td>\n",
       "    </tr>\n",
       "    <tr>\n",
       "      <th>0</th>\n",
       "      <td>AGE15X</td>\n",
       "      <td>0.066392</td>\n",
       "    </tr>\n",
       "    <tr>\n",
       "      <th>47</th>\n",
       "      <td>PREGNT53_1</td>\n",
       "      <td>0.035423</td>\n",
       "    </tr>\n",
       "    <tr>\n",
       "      <th>68</th>\n",
       "      <td>IPNUM</td>\n",
       "      <td>0.020402</td>\n",
       "    </tr>\n",
       "    <tr>\n",
       "      <th>4</th>\n",
       "      <td>FAMINC15</td>\n",
       "      <td>0.017466</td>\n",
       "    </tr>\n",
       "    <tr>\n",
       "      <th>75</th>\n",
       "      <td>flu_region</td>\n",
       "      <td>0.013345</td>\n",
       "    </tr>\n",
       "    <tr>\n",
       "      <th>57</th>\n",
       "      <td>INSURC15_1</td>\n",
       "      <td>0.007939</td>\n",
       "    </tr>\n",
       "    <tr>\n",
       "      <th>65</th>\n",
       "      <td>POVLEV15</td>\n",
       "      <td>0.004581</td>\n",
       "    </tr>\n",
       "    <tr>\n",
       "      <th>3</th>\n",
       "      <td>FOODMN15</td>\n",
       "      <td>0.003259</td>\n",
       "    </tr>\n",
       "    <tr>\n",
       "      <th>72</th>\n",
       "      <td>RXNUM</td>\n",
       "      <td>0.002400</td>\n",
       "    </tr>\n",
       "  </tbody>\n",
       "</table>\n",
       "</div>"
      ],
      "text/plain": [
       "               0  Importance\n",
       "73  tamiflu_flag    0.814297\n",
       "0         AGE15X    0.066392\n",
       "47    PREGNT53_1    0.035423\n",
       "68         IPNUM    0.020402\n",
       "4       FAMINC15    0.017466\n",
       "75    flu_region    0.013345\n",
       "57    INSURC15_1    0.007939\n",
       "65      POVLEV15    0.004581\n",
       "3       FOODMN15    0.003259\n",
       "72         RXNUM    0.002400"
      ]
     },
     "execution_count": 87,
     "metadata": {},
     "output_type": "execute_result"
    }
   ],
   "source": [
    "var_importance2 = pd.DataFrame(xtrain.columns)\n",
    "var_importance2['Importance'] = gradientboosting.feature_importances_\n",
    "var_importance2.sort_values(by='Importance', ascending=False).head(10)"
   ]
  },
  {
   "cell_type": "markdown",
   "metadata": {},
   "source": [
    "### Try upsampling - double the number of flu cases and run same models"
   ]
  },
  {
   "cell_type": "code",
   "execution_count": 88,
   "metadata": {},
   "outputs": [
    {
     "data": {
      "text/plain": [
       "0    102661\n",
       "1     20000\n",
       "Name: flu_flag, dtype: int64"
      ]
     },
     "execution_count": 88,
     "metadata": {},
     "output_type": "execute_result"
    }
   ],
   "source": [
    "from sklearn.utils import resample\n",
    "\n",
    "majority = training[training.flu_flag==0]\n",
    "minority = training[training.flu_flag==1]\n",
    "\n",
    "# sample with replacement to be 10% of majority class\n",
    "flu_upsampled = resample(minority, replace=True,n_samples=20000,random_state=123)\n",
    "\n",
    "flu_upsampled_training = pd.concat([majority, flu_upsampled])\n",
    "\n",
    "flu_upsampled_training.flu_flag.value_counts()"
   ]
  },
  {
   "cell_type": "code",
   "execution_count": 89,
   "metadata": {},
   "outputs": [],
   "source": [
    "upsampled_ytrain = flu_upsampled_training.flu_flag\n",
    "upsampled_xtrain = flu_upsampled_training.drop(columns=['flu_flag','DUPERSID'])\n",
    "\n",
    "upsampled_random_forest = RandomForestClassifier(n_estimators=200,criterion='entropy',n_jobs=-1)\n",
    "upsampled_random_forest.fit(upsampled_xtrain, upsampled_ytrain)\n",
    "upsampled_predictions = upsampled_random_forest.predict(xtest)"
   ]
  },
  {
   "cell_type": "code",
   "execution_count": 90,
   "metadata": {},
   "outputs": [
    {
     "name": "stdout",
     "output_type": "stream",
     "text": [
      "Test Accuracy Rate:  0.956\n"
     ]
    },
    {
     "data": {
      "text/plain": [
       "array([[33707,    25],\n",
       "       [ 1549,   146]], dtype=int64)"
      ]
     },
     "execution_count": 90,
     "metadata": {},
     "output_type": "execute_result"
    }
   ],
   "source": [
    "print('Test Accuracy Rate: ',round(accuracy_score(ytest, upsampled_predictions),3))\n",
    "confusion_matrix(ytest, upsampled_predictions)"
   ]
  },
  {
   "cell_type": "code",
   "execution_count": 91,
   "metadata": {},
   "outputs": [
    {
     "data": {
      "image/png": "[encoded data removed]",
      "text/plain": [
       "<matplotlib.figure.Figure at 0x1a6d2b06400>"
      ]
     },
     "metadata": {},
     "output_type": "display_data"
    }
   ],
   "source": [
    "fpr, tpr, _ = roc_curve(ytest, upsampled_predictions)\n",
    "roc_auc = auc(fpr, tpr)\n",
    "\n",
    "plt.figure()\n",
    "lw = 2\n",
    "plt.plot(fpr, tpr, color='darkorange',\n",
    "         lw=lw, label='ROC curve (area = %0.2f)' % roc_auc)\n",
    "plt.plot([0, 1], [0, 1], color='navy', lw=lw, linestyle='--')\n",
    "plt.xlim([0.0, 1.0])\n",
    "plt.ylim([0.0, 1.05])\n",
    "plt.xlabel('False Positive Rate')\n",
    "plt.ylabel('True Positive Rate')\n",
    "plt.title('Receiver operating characteristic example')\n",
    "plt.legend(loc=\"lower right\")\n",
    "plt.show()"
   ]
  },
  {
   "cell_type": "code",
   "execution_count": 92,
   "metadata": {},
   "outputs": [
    {
     "name": "stdout",
     "output_type": "stream",
     "text": [
      "Test Accuracy Rate:  0.92\n"
     ]
    },
    {
     "data": {
      "text/plain": [
       "array([[32392,  1340],\n",
       "       [ 1485,   210]], dtype=int64)"
      ]
     },
     "execution_count": 92,
     "metadata": {},
     "output_type": "execute_result"
    }
   ],
   "source": [
    "upsampled_gradientboosting = GradientBoostingClassifier(n_estimators=200, learning_rate=1.0, max_depth=5, )\n",
    "upsampled_gradientboosting.fit(upsampled_xtrain, upsampled_ytrain)\n",
    "\n",
    "upsampled_predictions2 = upsampled_gradientboosting.predict(xtest)\n",
    "print('Test Accuracy Rate: ',round(accuracy_score(ytest, upsampled_predictions2),3))\n",
    "confusion_matrix(ytest, upsampled_predictions2)"
   ]
  },
  {
   "cell_type": "code",
   "execution_count": 93,
   "metadata": {},
   "outputs": [
    {
     "data": {
      "text/html": [
       "<div>\n",
       "<style scoped>\n",
       "    .dataframe tbody tr th:only-of-type {\n",
       "        vertical-align: middle;\n",
       "    }\n",
       "\n",
       "    .dataframe tbody tr th {\n",
       "        vertical-align: top;\n",
       "    }\n",
       "\n",
       "    .dataframe thead th {\n",
       "        text-align: right;\n",
       "    }\n",
       "</style>\n",
       "<table border=\"1\" class=\"dataframe\">\n",
       "  <thead>\n",
       "    <tr style=\"text-align: right;\">\n",
       "      <th></th>\n",
       "      <th>0</th>\n",
       "      <th>Importance</th>\n",
       "    </tr>\n",
       "  </thead>\n",
       "  <tbody>\n",
       "    <tr>\n",
       "      <th>65</th>\n",
       "      <td>POVLEV15</td>\n",
       "      <td>0.200738</td>\n",
       "    </tr>\n",
       "    <tr>\n",
       "      <th>4</th>\n",
       "      <td>FAMINC15</td>\n",
       "      <td>0.181848</td>\n",
       "    </tr>\n",
       "    <tr>\n",
       "      <th>0</th>\n",
       "      <td>AGE15X</td>\n",
       "      <td>0.072261</td>\n",
       "    </tr>\n",
       "    <tr>\n",
       "      <th>66</th>\n",
       "      <td>BMINDX53</td>\n",
       "      <td>0.065129</td>\n",
       "    </tr>\n",
       "    <tr>\n",
       "      <th>72</th>\n",
       "      <td>RXNUM</td>\n",
       "      <td>0.037325</td>\n",
       "    </tr>\n",
       "    <tr>\n",
       "      <th>70</th>\n",
       "      <td>OBNUM</td>\n",
       "      <td>0.037135</td>\n",
       "    </tr>\n",
       "    <tr>\n",
       "      <th>11</th>\n",
       "      <td>OBTOTV15</td>\n",
       "      <td>0.035703</td>\n",
       "    </tr>\n",
       "    <tr>\n",
       "      <th>75</th>\n",
       "      <td>flu_region</td>\n",
       "      <td>0.034833</td>\n",
       "    </tr>\n",
       "    <tr>\n",
       "      <th>5</th>\n",
       "      <td>SSECP15X</td>\n",
       "      <td>0.018407</td>\n",
       "    </tr>\n",
       "    <tr>\n",
       "      <th>6</th>\n",
       "      <td>CHECK53</td>\n",
       "      <td>0.017741</td>\n",
       "    </tr>\n",
       "  </tbody>\n",
       "</table>\n",
       "</div>"
      ],
      "text/plain": [
       "             0  Importance\n",
       "65    POVLEV15    0.200738\n",
       "4     FAMINC15    0.181848\n",
       "0       AGE15X    0.072261\n",
       "66    BMINDX53    0.065129\n",
       "72       RXNUM    0.037325\n",
       "70       OBNUM    0.037135\n",
       "11    OBTOTV15    0.035703\n",
       "75  flu_region    0.034833\n",
       "5     SSECP15X    0.018407\n",
       "6      CHECK53    0.017741"
      ]
     },
     "execution_count": 93,
     "metadata": {},
     "output_type": "execute_result"
    }
   ],
   "source": [
    "var_importance_upsample = pd.DataFrame(xtrain.columns)\n",
    "var_importance_upsample['Importance'] = upsampled_gradientboosting.feature_importances_\n",
    "var_importance_upsample.sort_values(by='Importance', ascending=False).head(10)"
   ]
  },
  {
   "cell_type": "code",
   "execution_count": 94,
   "metadata": {},
   "outputs": [
    {
     "data": {
      "image/png": "[encoded data removed]",
      "text/plain": [
       "<matplotlib.figure.Figure at 0x1a6da2e1c18>"
      ]
     },
     "metadata": {},
     "output_type": "display_data"
    }
   ],
   "source": [
    "fpr, tpr, _ = roc_curve(ytest, upsampled_predictions2)\n",
    "roc_auc = auc(fpr, tpr)\n",
    "\n",
    "plt.figure()\n",
    "lw = 2\n",
    "plt.plot(fpr, tpr, color='darkorange',\n",
    "         lw=lw, label='ROC curve (area = %0.2f)' % roc_auc)\n",
    "plt.plot([0, 1], [0, 1], color='navy', lw=lw, linestyle='--')\n",
    "plt.xlim([0.0, 1.0])\n",
    "plt.ylim([0.0, 1.05])\n",
    "plt.xlabel('False Positive Rate')\n",
    "plt.ylabel('True Positive Rate')\n",
    "plt.title('Receiver operating characteristic example')\n",
    "plt.legend(loc=\"lower right\")\n",
    "plt.show()"
   ]
  },
  {
   "cell_type": "markdown",
   "metadata": {},
   "source": [
    "### Try Penalized SVMs... or not because it takes so long"
   ]
  },
  {
   "cell_type": "code",
   "execution_count": 95,
   "metadata": {},
   "outputs": [],
   "source": [
    "# #no upsampling\n",
    "\n",
    "# from sklearn.svm import SVC\n",
    "\n",
    "# svm = SVC(kernel='linear', class_weight='balanced',probability=True)\n",
    "\n",
    "# svm.fit(xtrain, ytrain)\n",
    "# svm_predict = svm.predict(xtest)\n",
    "# print('Test Accuracy Rate: ',round(accuracy_score(ytest, svm_predict),3))\n",
    "# confusion_matrix(ytest, svm_predict)\n",
    "\n",
    "# fpr, tpr, _ = roc_curve(ytest, svm_predict)\n",
    "# roc_auc = auc(fpr, tpr)\n",
    "\n",
    "# plt.figure()\n",
    "# lw = 2\n",
    "# plt.plot(fpr, tpr, color='darkorange',\n",
    "#          lw=lw, label='ROC curve (area = %0.2f)' % roc_auc)\n",
    "# plt.plot([0, 1], [0, 1], color='navy', lw=lw, linestyle='--')\n",
    "# plt.xlim([0.0, 1.0])\n",
    "# plt.ylim([0.0, 1.05])\n",
    "# plt.xlabel('False Positive Rate')\n",
    "# plt.ylabel('True Positive Rate')\n",
    "# plt.title('Receiver operating characteristic example')\n",
    "# plt.legend(loc=\"lower right\")\n",
    "# plt.show()"
   ]
  },
  {
   "cell_type": "markdown",
   "metadata": {},
   "source": [
    "### Use stochastic gradient descent instead because its faster..."
   ]
  },
  {
   "cell_type": "code",
   "execution_count": 96,
   "metadata": {},
   "outputs": [
    {
     "name": "stderr",
     "output_type": "stream",
     "text": [
      "C:\\Users\\spleahy\\Anaconda3\\lib\\site-packages\\sklearn\\linear_model\\stochastic_gradient.py:128: FutureWarning: max_iter and tol parameters have been added in <class 'sklearn.linear_model.stochastic_gradient.SGDClassifier'> in 0.19. If both are left unset, they default to max_iter=5 and tol=None. If tol is not None, max_iter defaults to max_iter=1000. From 0.21, default max_iter will be 1000, and default tol will be 1e-3.\n",
      "  \"and default tol will be 1e-3.\" % type(self), FutureWarning)\n"
     ]
    },
    {
     "name": "stdout",
     "output_type": "stream",
     "text": [
      "Test Accuracy Rate:  0.952\n"
     ]
    },
    {
     "data": {
      "image/png": "[encoded data removed]",
      "text/plain": [
       "<matplotlib.figure.Figure at 0x1a6a89716d8>"
      ]
     },
     "metadata": {},
     "output_type": "display_data"
    }
   ],
   "source": [
    "#using stochastic gradient descent\n",
    "from sklearn.linear_model import SGDClassifier\n",
    "\n",
    "sgd_svm = SGDClassifier(penalty='elasticnet', class_weight='balanced')\n",
    "\n",
    "sgd_svm.fit(xtrain, ytrain)\n",
    "sgd_predict = sgd_svm.predict(xtest)\n",
    "\n",
    "print('Test Accuracy Rate: ',round(accuracy_score(ytest, sgd_predict),3))\n",
    "confusion_matrix(ytest, sgd_predict)\n",
    "\n",
    "fpr, tpr, _ = roc_curve(ytest, sgd_predict)\n",
    "roc_auc = auc(fpr, tpr)\n",
    "\n",
    "plt.figure()\n",
    "lw = 2\n",
    "plt.plot(fpr, tpr, color='darkorange',\n",
    "         lw=lw, label='ROC curve (area = %0.2f)' % roc_auc)\n",
    "plt.plot([0, 1], [0, 1], color='navy', lw=lw, linestyle='--')\n",
    "plt.xlim([0.0, 1.0])\n",
    "plt.ylim([0.0, 1.05])\n",
    "plt.xlabel('False Positive Rate')\n",
    "plt.ylabel('True Positive Rate')\n",
    "plt.title('Receiver operating characteristic example')\n",
    "plt.legend(loc=\"lower right\")\n",
    "plt.show()"
   ]
  },
  {
   "cell_type": "markdown",
   "metadata": {},
   "source": [
    "# See other notebook for further model building and predictions"
   ]
  }
 ],
 "metadata": {
  "kernelspec": {
   "display_name": "Python 3",
   "language": "python",
   "name": "python3"
  },
  "language_info": {
   "codemirror_mode": {
    "name": "ipython",
    "version": 3
   },
   "file_extension": ".py",
   "mimetype": "text/x-python",
   "name": "python",
   "nbconvert_exporter": "python",
   "pygments_lexer": "ipython3",
   "version": "3.6.4"
  }
 },
 "nbformat": 4,
 "nbformat_minor": 2
}
